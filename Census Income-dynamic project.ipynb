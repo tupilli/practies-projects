{
 "cells": [
  {
   "cell_type": "markdown",
   "id": "62de164d",
   "metadata": {},
   "source": [
    "**In this dataset we have to predict the income of people that they earn more than 50k or less than 50k**"
   ]
  },
  {
   "cell_type": "code",
   "execution_count": 1,
   "id": "b01d76bb",
   "metadata": {},
   "outputs": [],
   "source": [
    "#Importing all the necessary libraies\n",
    "import pandas as pd\n",
    "import numpy as np\n",
    "import matplotlib.pyplot as plt\n",
    "import seaborn as sns\n",
    "%matplotlib inline\n",
    "\n",
    "#Importing warnings\n",
    "import warnings\n",
    "warnings.filterwarnings('ignore')"
   ]
  },
  {
   "cell_type": "code",
   "execution_count": 2,
   "id": "1e677c25",
   "metadata": {},
   "outputs": [
    {
     "data": {
      "text/html": [
       "<div>\n",
       "<style scoped>\n",
       "    .dataframe tbody tr th:only-of-type {\n",
       "        vertical-align: middle;\n",
       "    }\n",
       "\n",
       "    .dataframe tbody tr th {\n",
       "        vertical-align: top;\n",
       "    }\n",
       "\n",
       "    .dataframe thead th {\n",
       "        text-align: right;\n",
       "    }\n",
       "</style>\n",
       "<table border=\"1\" class=\"dataframe\">\n",
       "  <thead>\n",
       "    <tr style=\"text-align: right;\">\n",
       "      <th></th>\n",
       "      <th>age</th>\n",
       "      <th>workclass</th>\n",
       "      <th>fnlwgt</th>\n",
       "      <th>education</th>\n",
       "      <th>education_num</th>\n",
       "      <th>marital_status</th>\n",
       "      <th>occupation</th>\n",
       "      <th>relationship</th>\n",
       "      <th>race</th>\n",
       "      <th>sex</th>\n",
       "      <th>capital_gain</th>\n",
       "      <th>capital_loss</th>\n",
       "      <th>hours_per_week</th>\n",
       "      <th>native_country</th>\n",
       "      <th>income</th>\n",
       "    </tr>\n",
       "  </thead>\n",
       "  <tbody>\n",
       "    <tr>\n",
       "      <th>0</th>\n",
       "      <td>50</td>\n",
       "      <td>Self-emp-not-inc</td>\n",
       "      <td>83311</td>\n",
       "      <td>Bachelors</td>\n",
       "      <td>13</td>\n",
       "      <td>Married-civ-spouse</td>\n",
       "      <td>Exec-managerial</td>\n",
       "      <td>Husband</td>\n",
       "      <td>White</td>\n",
       "      <td>Male</td>\n",
       "      <td>0</td>\n",
       "      <td>0</td>\n",
       "      <td>13</td>\n",
       "      <td>United-States</td>\n",
       "      <td>&lt;=50K</td>\n",
       "    </tr>\n",
       "    <tr>\n",
       "      <th>1</th>\n",
       "      <td>38</td>\n",
       "      <td>Private</td>\n",
       "      <td>215646</td>\n",
       "      <td>HS-grad</td>\n",
       "      <td>9</td>\n",
       "      <td>Divorced</td>\n",
       "      <td>Handlers-cleaners</td>\n",
       "      <td>Not-in-family</td>\n",
       "      <td>White</td>\n",
       "      <td>Male</td>\n",
       "      <td>0</td>\n",
       "      <td>0</td>\n",
       "      <td>40</td>\n",
       "      <td>United-States</td>\n",
       "      <td>&lt;=50K</td>\n",
       "    </tr>\n",
       "    <tr>\n",
       "      <th>2</th>\n",
       "      <td>53</td>\n",
       "      <td>Private</td>\n",
       "      <td>234721</td>\n",
       "      <td>11th</td>\n",
       "      <td>7</td>\n",
       "      <td>Married-civ-spouse</td>\n",
       "      <td>Handlers-cleaners</td>\n",
       "      <td>Husband</td>\n",
       "      <td>Black</td>\n",
       "      <td>Male</td>\n",
       "      <td>0</td>\n",
       "      <td>0</td>\n",
       "      <td>40</td>\n",
       "      <td>United-States</td>\n",
       "      <td>&lt;=50K</td>\n",
       "    </tr>\n",
       "    <tr>\n",
       "      <th>3</th>\n",
       "      <td>28</td>\n",
       "      <td>Private</td>\n",
       "      <td>338409</td>\n",
       "      <td>Bachelors</td>\n",
       "      <td>13</td>\n",
       "      <td>Married-civ-spouse</td>\n",
       "      <td>Prof-specialty</td>\n",
       "      <td>Wife</td>\n",
       "      <td>Black</td>\n",
       "      <td>Female</td>\n",
       "      <td>0</td>\n",
       "      <td>0</td>\n",
       "      <td>40</td>\n",
       "      <td>Cuba</td>\n",
       "      <td>&lt;=50K</td>\n",
       "    </tr>\n",
       "    <tr>\n",
       "      <th>4</th>\n",
       "      <td>37</td>\n",
       "      <td>Private</td>\n",
       "      <td>284582</td>\n",
       "      <td>Masters</td>\n",
       "      <td>14</td>\n",
       "      <td>Married-civ-spouse</td>\n",
       "      <td>Exec-managerial</td>\n",
       "      <td>Wife</td>\n",
       "      <td>White</td>\n",
       "      <td>Female</td>\n",
       "      <td>0</td>\n",
       "      <td>0</td>\n",
       "      <td>40</td>\n",
       "      <td>United-States</td>\n",
       "      <td>&lt;=50K</td>\n",
       "    </tr>\n",
       "    <tr>\n",
       "      <th>...</th>\n",
       "      <td>...</td>\n",
       "      <td>...</td>\n",
       "      <td>...</td>\n",
       "      <td>...</td>\n",
       "      <td>...</td>\n",
       "      <td>...</td>\n",
       "      <td>...</td>\n",
       "      <td>...</td>\n",
       "      <td>...</td>\n",
       "      <td>...</td>\n",
       "      <td>...</td>\n",
       "      <td>...</td>\n",
       "      <td>...</td>\n",
       "      <td>...</td>\n",
       "      <td>...</td>\n",
       "    </tr>\n",
       "    <tr>\n",
       "      <th>32555</th>\n",
       "      <td>27</td>\n",
       "      <td>Private</td>\n",
       "      <td>257302</td>\n",
       "      <td>Assoc-acdm</td>\n",
       "      <td>12</td>\n",
       "      <td>Married-civ-spouse</td>\n",
       "      <td>Tech-support</td>\n",
       "      <td>Wife</td>\n",
       "      <td>White</td>\n",
       "      <td>Female</td>\n",
       "      <td>0</td>\n",
       "      <td>0</td>\n",
       "      <td>38</td>\n",
       "      <td>United-States</td>\n",
       "      <td>&lt;=50K</td>\n",
       "    </tr>\n",
       "    <tr>\n",
       "      <th>32556</th>\n",
       "      <td>40</td>\n",
       "      <td>Private</td>\n",
       "      <td>154374</td>\n",
       "      <td>HS-grad</td>\n",
       "      <td>9</td>\n",
       "      <td>Married-civ-spouse</td>\n",
       "      <td>Machine-op-inspct</td>\n",
       "      <td>Husband</td>\n",
       "      <td>White</td>\n",
       "      <td>Male</td>\n",
       "      <td>0</td>\n",
       "      <td>0</td>\n",
       "      <td>40</td>\n",
       "      <td>United-States</td>\n",
       "      <td>&gt;50K</td>\n",
       "    </tr>\n",
       "    <tr>\n",
       "      <th>32557</th>\n",
       "      <td>58</td>\n",
       "      <td>Private</td>\n",
       "      <td>151910</td>\n",
       "      <td>HS-grad</td>\n",
       "      <td>9</td>\n",
       "      <td>Widowed</td>\n",
       "      <td>Adm-clerical</td>\n",
       "      <td>Unmarried</td>\n",
       "      <td>White</td>\n",
       "      <td>Female</td>\n",
       "      <td>0</td>\n",
       "      <td>0</td>\n",
       "      <td>40</td>\n",
       "      <td>United-States</td>\n",
       "      <td>&lt;=50K</td>\n",
       "    </tr>\n",
       "    <tr>\n",
       "      <th>32558</th>\n",
       "      <td>22</td>\n",
       "      <td>Private</td>\n",
       "      <td>201490</td>\n",
       "      <td>HS-grad</td>\n",
       "      <td>9</td>\n",
       "      <td>Never-married</td>\n",
       "      <td>Adm-clerical</td>\n",
       "      <td>Own-child</td>\n",
       "      <td>White</td>\n",
       "      <td>Male</td>\n",
       "      <td>0</td>\n",
       "      <td>0</td>\n",
       "      <td>20</td>\n",
       "      <td>United-States</td>\n",
       "      <td>&lt;=50K</td>\n",
       "    </tr>\n",
       "    <tr>\n",
       "      <th>32559</th>\n",
       "      <td>52</td>\n",
       "      <td>Self-emp-inc</td>\n",
       "      <td>287927</td>\n",
       "      <td>HS-grad</td>\n",
       "      <td>9</td>\n",
       "      <td>Married-civ-spouse</td>\n",
       "      <td>Exec-managerial</td>\n",
       "      <td>Wife</td>\n",
       "      <td>White</td>\n",
       "      <td>Female</td>\n",
       "      <td>15024</td>\n",
       "      <td>0</td>\n",
       "      <td>40</td>\n",
       "      <td>United-States</td>\n",
       "      <td>&gt;50K</td>\n",
       "    </tr>\n",
       "  </tbody>\n",
       "</table>\n",
       "<p>32560 rows × 15 columns</p>\n",
       "</div>"
      ],
      "text/plain": [
       "       age         workclass  fnlwgt   education  education_num  \\\n",
       "0       50  Self-emp-not-inc   83311   Bachelors             13   \n",
       "1       38           Private  215646     HS-grad              9   \n",
       "2       53           Private  234721        11th              7   \n",
       "3       28           Private  338409   Bachelors             13   \n",
       "4       37           Private  284582     Masters             14   \n",
       "...    ...               ...     ...         ...            ...   \n",
       "32555   27           Private  257302  Assoc-acdm             12   \n",
       "32556   40           Private  154374     HS-grad              9   \n",
       "32557   58           Private  151910     HS-grad              9   \n",
       "32558   22           Private  201490     HS-grad              9   \n",
       "32559   52      Self-emp-inc  287927     HS-grad              9   \n",
       "\n",
       "           marital_status         occupation   relationship   race     sex  \\\n",
       "0      Married-civ-spouse    Exec-managerial        Husband  White    Male   \n",
       "1                Divorced  Handlers-cleaners  Not-in-family  White    Male   \n",
       "2      Married-civ-spouse  Handlers-cleaners        Husband  Black    Male   \n",
       "3      Married-civ-spouse     Prof-specialty           Wife  Black  Female   \n",
       "4      Married-civ-spouse    Exec-managerial           Wife  White  Female   \n",
       "...                   ...                ...            ...    ...     ...   \n",
       "32555  Married-civ-spouse       Tech-support           Wife  White  Female   \n",
       "32556  Married-civ-spouse  Machine-op-inspct        Husband  White    Male   \n",
       "32557             Widowed       Adm-clerical      Unmarried  White  Female   \n",
       "32558       Never-married       Adm-clerical      Own-child  White    Male   \n",
       "32559  Married-civ-spouse    Exec-managerial           Wife  White  Female   \n",
       "\n",
       "       capital_gain  capital_loss  hours_per_week native_country income  \n",
       "0                 0             0              13  United-States  <=50K  \n",
       "1                 0             0              40  United-States  <=50K  \n",
       "2                 0             0              40  United-States  <=50K  \n",
       "3                 0             0              40           Cuba  <=50K  \n",
       "4                 0             0              40  United-States  <=50K  \n",
       "...             ...           ...             ...            ...    ...  \n",
       "32555             0             0              38  United-States  <=50K  \n",
       "32556             0             0              40  United-States   >50K  \n",
       "32557             0             0              40  United-States  <=50K  \n",
       "32558             0             0              20  United-States  <=50K  \n",
       "32559         15024             0              40  United-States   >50K  \n",
       "\n",
       "[32560 rows x 15 columns]"
      ]
     },
     "execution_count": 2,
     "metadata": {},
     "output_type": "execute_result"
    }
   ],
   "source": [
    "#loading the dataset\n",
    "df=pd.read_csv('adult_income.csv',sep=',\\s')\n",
    "df.columns=['age','workclass','fnlwgt','education','education_num','marital_status','occupation','relationship','race','sex','capital_gain','capital_loss','hours_per_week','native_country','income']\n",
    "df"
   ]
  },
  {
   "cell_type": "code",
   "execution_count": 3,
   "id": "92c13036",
   "metadata": {},
   "outputs": [
    {
     "data": {
      "text/plain": [
       "(32560, 15)"
      ]
     },
     "execution_count": 3,
     "metadata": {},
     "output_type": "execute_result"
    }
   ],
   "source": [
    "df.shape"
   ]
  },
  {
   "cell_type": "markdown",
   "id": "b3ed17ae",
   "metadata": {},
   "source": [
    "Observation:\n",
    "\n",
    "  There are 32560 rows and 15 columns in our dataset"
   ]
  },
  {
   "cell_type": "code",
   "execution_count": 4,
   "id": "1a2d4bd6",
   "metadata": {},
   "outputs": [
    {
     "data": {
      "text/plain": [
       "False"
      ]
     },
     "execution_count": 4,
     "metadata": {},
     "output_type": "execute_result"
    }
   ],
   "source": [
    "#checking for null values\n",
    "df.isnull().values.any()"
   ]
  },
  {
   "cell_type": "markdown",
   "id": "dec36cef",
   "metadata": {},
   "source": [
    "Observation:\n",
    " \n",
    "Here we see there are no null values but there is a '?' present in our dataset which is treated as null value."
   ]
  },
  {
   "cell_type": "code",
   "execution_count": 5,
   "id": "74700684",
   "metadata": {},
   "outputs": [
    {
     "name": "stdout",
     "output_type": "stream",
     "text": [
      "<class 'pandas.core.frame.DataFrame'>\n",
      "RangeIndex: 32560 entries, 0 to 32559\n",
      "Data columns (total 15 columns):\n",
      " #   Column          Non-Null Count  Dtype \n",
      "---  ------          --------------  ----- \n",
      " 0   age             32560 non-null  int64 \n",
      " 1   workclass       32560 non-null  object\n",
      " 2   fnlwgt          32560 non-null  int64 \n",
      " 3   education       32560 non-null  object\n",
      " 4   education_num   32560 non-null  int64 \n",
      " 5   marital_status  32560 non-null  object\n",
      " 6   occupation      32560 non-null  object\n",
      " 7   relationship    32560 non-null  object\n",
      " 8   race            32560 non-null  object\n",
      " 9   sex             32560 non-null  object\n",
      " 10  capital_gain    32560 non-null  int64 \n",
      " 11  capital_loss    32560 non-null  int64 \n",
      " 12  hours_per_week  32560 non-null  int64 \n",
      " 13  native_country  32560 non-null  object\n",
      " 14  income          32560 non-null  object\n",
      "dtypes: int64(6), object(9)\n",
      "memory usage: 3.7+ MB\n"
     ]
    }
   ],
   "source": [
    "#Checking the information of dataset\n",
    "df.info()"
   ]
  },
  {
   "cell_type": "markdown",
   "id": "8e42102d",
   "metadata": {},
   "source": [
    "Observation:\n",
    "\n",
    "    Information of the dataset that there are no missing values. But in the dataset '?' is present. So I will encode '?' as NaN value."
   ]
  },
  {
   "cell_type": "code",
   "execution_count": 6,
   "id": "b633e154",
   "metadata": {},
   "outputs": [
    {
     "data": {
      "text/html": [
       "<div>\n",
       "<style scoped>\n",
       "    .dataframe tbody tr th:only-of-type {\n",
       "        vertical-align: middle;\n",
       "    }\n",
       "\n",
       "    .dataframe tbody tr th {\n",
       "        vertical-align: top;\n",
       "    }\n",
       "\n",
       "    .dataframe thead th {\n",
       "        text-align: right;\n",
       "    }\n",
       "</style>\n",
       "<table border=\"1\" class=\"dataframe\">\n",
       "  <thead>\n",
       "    <tr style=\"text-align: right;\">\n",
       "      <th></th>\n",
       "      <th>age</th>\n",
       "      <th>workclass</th>\n",
       "      <th>fnlwgt</th>\n",
       "      <th>education</th>\n",
       "      <th>education_num</th>\n",
       "      <th>marital_status</th>\n",
       "      <th>occupation</th>\n",
       "      <th>relationship</th>\n",
       "      <th>race</th>\n",
       "      <th>sex</th>\n",
       "      <th>capital_gain</th>\n",
       "      <th>capital_loss</th>\n",
       "      <th>hours_per_week</th>\n",
       "      <th>native_country</th>\n",
       "      <th>income</th>\n",
       "    </tr>\n",
       "  </thead>\n",
       "  <tbody>\n",
       "    <tr>\n",
       "      <th>0</th>\n",
       "      <td>50</td>\n",
       "      <td>Self-emp-not-inc</td>\n",
       "      <td>83311</td>\n",
       "      <td>Bachelors</td>\n",
       "      <td>13</td>\n",
       "      <td>Married-civ-spouse</td>\n",
       "      <td>Exec-managerial</td>\n",
       "      <td>Husband</td>\n",
       "      <td>White</td>\n",
       "      <td>Male</td>\n",
       "      <td>0</td>\n",
       "      <td>0</td>\n",
       "      <td>13</td>\n",
       "      <td>United-States</td>\n",
       "      <td>&lt;=50K</td>\n",
       "    </tr>\n",
       "    <tr>\n",
       "      <th>1</th>\n",
       "      <td>38</td>\n",
       "      <td>Private</td>\n",
       "      <td>215646</td>\n",
       "      <td>HS-grad</td>\n",
       "      <td>9</td>\n",
       "      <td>Divorced</td>\n",
       "      <td>Handlers-cleaners</td>\n",
       "      <td>Not-in-family</td>\n",
       "      <td>White</td>\n",
       "      <td>Male</td>\n",
       "      <td>0</td>\n",
       "      <td>0</td>\n",
       "      <td>40</td>\n",
       "      <td>United-States</td>\n",
       "      <td>&lt;=50K</td>\n",
       "    </tr>\n",
       "    <tr>\n",
       "      <th>2</th>\n",
       "      <td>53</td>\n",
       "      <td>Private</td>\n",
       "      <td>234721</td>\n",
       "      <td>11th</td>\n",
       "      <td>7</td>\n",
       "      <td>Married-civ-spouse</td>\n",
       "      <td>Handlers-cleaners</td>\n",
       "      <td>Husband</td>\n",
       "      <td>Black</td>\n",
       "      <td>Male</td>\n",
       "      <td>0</td>\n",
       "      <td>0</td>\n",
       "      <td>40</td>\n",
       "      <td>United-States</td>\n",
       "      <td>&lt;=50K</td>\n",
       "    </tr>\n",
       "    <tr>\n",
       "      <th>3</th>\n",
       "      <td>28</td>\n",
       "      <td>Private</td>\n",
       "      <td>338409</td>\n",
       "      <td>Bachelors</td>\n",
       "      <td>13</td>\n",
       "      <td>Married-civ-spouse</td>\n",
       "      <td>Prof-specialty</td>\n",
       "      <td>Wife</td>\n",
       "      <td>Black</td>\n",
       "      <td>Female</td>\n",
       "      <td>0</td>\n",
       "      <td>0</td>\n",
       "      <td>40</td>\n",
       "      <td>Cuba</td>\n",
       "      <td>&lt;=50K</td>\n",
       "    </tr>\n",
       "    <tr>\n",
       "      <th>4</th>\n",
       "      <td>37</td>\n",
       "      <td>Private</td>\n",
       "      <td>284582</td>\n",
       "      <td>Masters</td>\n",
       "      <td>14</td>\n",
       "      <td>Married-civ-spouse</td>\n",
       "      <td>Exec-managerial</td>\n",
       "      <td>Wife</td>\n",
       "      <td>White</td>\n",
       "      <td>Female</td>\n",
       "      <td>0</td>\n",
       "      <td>0</td>\n",
       "      <td>40</td>\n",
       "      <td>United-States</td>\n",
       "      <td>&lt;=50K</td>\n",
       "    </tr>\n",
       "    <tr>\n",
       "      <th>...</th>\n",
       "      <td>...</td>\n",
       "      <td>...</td>\n",
       "      <td>...</td>\n",
       "      <td>...</td>\n",
       "      <td>...</td>\n",
       "      <td>...</td>\n",
       "      <td>...</td>\n",
       "      <td>...</td>\n",
       "      <td>...</td>\n",
       "      <td>...</td>\n",
       "      <td>...</td>\n",
       "      <td>...</td>\n",
       "      <td>...</td>\n",
       "      <td>...</td>\n",
       "      <td>...</td>\n",
       "    </tr>\n",
       "    <tr>\n",
       "      <th>32555</th>\n",
       "      <td>27</td>\n",
       "      <td>Private</td>\n",
       "      <td>257302</td>\n",
       "      <td>Assoc-acdm</td>\n",
       "      <td>12</td>\n",
       "      <td>Married-civ-spouse</td>\n",
       "      <td>Tech-support</td>\n",
       "      <td>Wife</td>\n",
       "      <td>White</td>\n",
       "      <td>Female</td>\n",
       "      <td>0</td>\n",
       "      <td>0</td>\n",
       "      <td>38</td>\n",
       "      <td>United-States</td>\n",
       "      <td>&lt;=50K</td>\n",
       "    </tr>\n",
       "    <tr>\n",
       "      <th>32556</th>\n",
       "      <td>40</td>\n",
       "      <td>Private</td>\n",
       "      <td>154374</td>\n",
       "      <td>HS-grad</td>\n",
       "      <td>9</td>\n",
       "      <td>Married-civ-spouse</td>\n",
       "      <td>Machine-op-inspct</td>\n",
       "      <td>Husband</td>\n",
       "      <td>White</td>\n",
       "      <td>Male</td>\n",
       "      <td>0</td>\n",
       "      <td>0</td>\n",
       "      <td>40</td>\n",
       "      <td>United-States</td>\n",
       "      <td>&gt;50K</td>\n",
       "    </tr>\n",
       "    <tr>\n",
       "      <th>32557</th>\n",
       "      <td>58</td>\n",
       "      <td>Private</td>\n",
       "      <td>151910</td>\n",
       "      <td>HS-grad</td>\n",
       "      <td>9</td>\n",
       "      <td>Widowed</td>\n",
       "      <td>Adm-clerical</td>\n",
       "      <td>Unmarried</td>\n",
       "      <td>White</td>\n",
       "      <td>Female</td>\n",
       "      <td>0</td>\n",
       "      <td>0</td>\n",
       "      <td>40</td>\n",
       "      <td>United-States</td>\n",
       "      <td>&lt;=50K</td>\n",
       "    </tr>\n",
       "    <tr>\n",
       "      <th>32558</th>\n",
       "      <td>22</td>\n",
       "      <td>Private</td>\n",
       "      <td>201490</td>\n",
       "      <td>HS-grad</td>\n",
       "      <td>9</td>\n",
       "      <td>Never-married</td>\n",
       "      <td>Adm-clerical</td>\n",
       "      <td>Own-child</td>\n",
       "      <td>White</td>\n",
       "      <td>Male</td>\n",
       "      <td>0</td>\n",
       "      <td>0</td>\n",
       "      <td>20</td>\n",
       "      <td>United-States</td>\n",
       "      <td>&lt;=50K</td>\n",
       "    </tr>\n",
       "    <tr>\n",
       "      <th>32559</th>\n",
       "      <td>52</td>\n",
       "      <td>Self-emp-inc</td>\n",
       "      <td>287927</td>\n",
       "      <td>HS-grad</td>\n",
       "      <td>9</td>\n",
       "      <td>Married-civ-spouse</td>\n",
       "      <td>Exec-managerial</td>\n",
       "      <td>Wife</td>\n",
       "      <td>White</td>\n",
       "      <td>Female</td>\n",
       "      <td>15024</td>\n",
       "      <td>0</td>\n",
       "      <td>40</td>\n",
       "      <td>United-States</td>\n",
       "      <td>&gt;50K</td>\n",
       "    </tr>\n",
       "  </tbody>\n",
       "</table>\n",
       "<p>32560 rows × 15 columns</p>\n",
       "</div>"
      ],
      "text/plain": [
       "       age         workclass  fnlwgt   education  education_num  \\\n",
       "0       50  Self-emp-not-inc   83311   Bachelors             13   \n",
       "1       38           Private  215646     HS-grad              9   \n",
       "2       53           Private  234721        11th              7   \n",
       "3       28           Private  338409   Bachelors             13   \n",
       "4       37           Private  284582     Masters             14   \n",
       "...    ...               ...     ...         ...            ...   \n",
       "32555   27           Private  257302  Assoc-acdm             12   \n",
       "32556   40           Private  154374     HS-grad              9   \n",
       "32557   58           Private  151910     HS-grad              9   \n",
       "32558   22           Private  201490     HS-grad              9   \n",
       "32559   52      Self-emp-inc  287927     HS-grad              9   \n",
       "\n",
       "           marital_status         occupation   relationship   race     sex  \\\n",
       "0      Married-civ-spouse    Exec-managerial        Husband  White    Male   \n",
       "1                Divorced  Handlers-cleaners  Not-in-family  White    Male   \n",
       "2      Married-civ-spouse  Handlers-cleaners        Husband  Black    Male   \n",
       "3      Married-civ-spouse     Prof-specialty           Wife  Black  Female   \n",
       "4      Married-civ-spouse    Exec-managerial           Wife  White  Female   \n",
       "...                   ...                ...            ...    ...     ...   \n",
       "32555  Married-civ-spouse       Tech-support           Wife  White  Female   \n",
       "32556  Married-civ-spouse  Machine-op-inspct        Husband  White    Male   \n",
       "32557             Widowed       Adm-clerical      Unmarried  White  Female   \n",
       "32558       Never-married       Adm-clerical      Own-child  White    Male   \n",
       "32559  Married-civ-spouse    Exec-managerial           Wife  White  Female   \n",
       "\n",
       "       capital_gain  capital_loss  hours_per_week native_country income  \n",
       "0                 0             0              13  United-States  <=50K  \n",
       "1                 0             0              40  United-States  <=50K  \n",
       "2                 0             0              40  United-States  <=50K  \n",
       "3                 0             0              40           Cuba  <=50K  \n",
       "4                 0             0              40  United-States  <=50K  \n",
       "...             ...           ...             ...            ...    ...  \n",
       "32555             0             0              38  United-States  <=50K  \n",
       "32556             0             0              40  United-States   >50K  \n",
       "32557             0             0              40  United-States  <=50K  \n",
       "32558             0             0              20  United-States  <=50K  \n",
       "32559         15024             0              40  United-States   >50K  \n",
       "\n",
       "[32560 rows x 15 columns]"
      ]
     },
     "execution_count": 6,
     "metadata": {},
     "output_type": "execute_result"
    }
   ],
   "source": [
    "#Replacing the question mark with NaN\n",
    "df=df.replace('?',np.nan)\n",
    "df"
   ]
  },
  {
   "cell_type": "code",
   "execution_count": 7,
   "id": "ef70ec6f",
   "metadata": {},
   "outputs": [
    {
     "data": {
      "text/plain": [
       "True"
      ]
     },
     "execution_count": 7,
     "metadata": {},
     "output_type": "execute_result"
    }
   ],
   "source": [
    "#Checking for null values again.\n",
    "df.isnull().values.any()"
   ]
  },
  {
   "cell_type": "markdown",
   "id": "ffc984cb",
   "metadata": {},
   "source": [
    "Now it tells that nan value is present.\n",
    "\n",
    "Now we check the no of null values present in particular columns."
   ]
  },
  {
   "cell_type": "code",
   "execution_count": 8,
   "id": "439c06e1",
   "metadata": {},
   "outputs": [
    {
     "data": {
      "text/plain": [
       "age                  0\n",
       "workclass         1836\n",
       "fnlwgt               0\n",
       "education            0\n",
       "education_num        0\n",
       "marital_status       0\n",
       "occupation        1843\n",
       "relationship         0\n",
       "race                 0\n",
       "sex                  0\n",
       "capital_gain         0\n",
       "capital_loss         0\n",
       "hours_per_week       0\n",
       "native_country     583\n",
       "income               0\n",
       "dtype: int64"
      ]
     },
     "execution_count": 8,
     "metadata": {},
     "output_type": "execute_result"
    }
   ],
   "source": [
    "#checking for null values.\n",
    "df.isnull().sum()"
   ]
  },
  {
   "cell_type": "markdown",
   "id": "00037357",
   "metadata": {},
   "source": [
    "Observation:\n",
    "\n",
    "1-There are 1836 null values present in workclass columns.\n",
    "\n",
    "2-1843 null value present in occupation column.\n",
    "\n",
    "3-583 null value present in native_country."
   ]
  },
  {
   "cell_type": "code",
   "execution_count": 9,
   "id": "0fa31901",
   "metadata": {},
   "outputs": [
    {
     "data": {
      "text/plain": [
       "<AxesSubplot:>"
      ]
     },
     "execution_count": 9,
     "metadata": {},
     "output_type": "execute_result"
    },
    {
     "data": {
      "image/png": "[encoded data removed]",
      "text/plain": [
       "<Figure size 432x288 with 1 Axes>"
      ]
     },
     "metadata": {
      "needs_background": "light"
     },
     "output_type": "display_data"
    }
   ],
   "source": [
    "#Checking it via visualization\n",
    "sns.heatmap(df.isnull(),yticklabels=False,cbar=False)"
   ]
  },
  {
   "cell_type": "code",
   "execution_count": 10,
   "id": "23e94864",
   "metadata": {},
   "outputs": [
    {
     "name": "stdout",
     "output_type": "stream",
     "text": [
      "<class 'pandas.core.frame.DataFrame'>\n",
      "RangeIndex: 32560 entries, 0 to 32559\n",
      "Data columns (total 15 columns):\n",
      " #   Column          Non-Null Count  Dtype \n",
      "---  ------          --------------  ----- \n",
      " 0   age             32560 non-null  int64 \n",
      " 1   workclass       30724 non-null  object\n",
      " 2   fnlwgt          32560 non-null  int64 \n",
      " 3   education       32560 non-null  object\n",
      " 4   education_num   32560 non-null  int64 \n",
      " 5   marital_status  32560 non-null  object\n",
      " 6   occupation      30717 non-null  object\n",
      " 7   relationship    32560 non-null  object\n",
      " 8   race            32560 non-null  object\n",
      " 9   sex             32560 non-null  object\n",
      " 10  capital_gain    32560 non-null  int64 \n",
      " 11  capital_loss    32560 non-null  int64 \n",
      " 12  hours_per_week  32560 non-null  int64 \n",
      " 13  native_country  31977 non-null  object\n",
      " 14  income          32560 non-null  object\n",
      "dtypes: int64(6), object(9)\n",
      "memory usage: 3.7+ MB\n"
     ]
    }
   ],
   "source": [
    "#Checking the information of the columns.\n",
    "df.info()"
   ]
  },
  {
   "cell_type": "markdown",
   "id": "6af22c79",
   "metadata": {},
   "source": [
    "Observation:\n",
    " \n",
    " The summary shows that the variables - workclass, occupation and native_country contain missing values.\n",
    " \n",
    " All of these variables are categorical data type. So I will impute the missing values with the most frequent value i.e.mode."
   ]
  },
  {
   "cell_type": "code",
   "execution_count": 11,
   "id": "11f29b59",
   "metadata": {},
   "outputs": [
    {
     "data": {
      "text/plain": [
       "0        <=50K\n",
       "1        <=50K\n",
       "2        <=50K\n",
       "3        <=50K\n",
       "4        <=50K\n",
       "         ...  \n",
       "32555    <=50K\n",
       "32556     >50K\n",
       "32557    <=50K\n",
       "32558    <=50K\n",
       "32559     >50K\n",
       "Name: income, Length: 32560, dtype: object"
      ]
     },
     "execution_count": 11,
     "metadata": {},
     "output_type": "execute_result"
    }
   ],
   "source": [
    "df['income']"
   ]
  },
  {
   "cell_type": "code",
   "execution_count": 12,
   "id": "2f9cd5b3",
   "metadata": {},
   "outputs": [],
   "source": [
    "#Imputing the missing value with mode\n",
    "for col in ['workclass','occupation','native_country']:\n",
    "    df[col].fillna(df[col].mode()[0],inplace=True)"
   ]
  },
  {
   "cell_type": "code",
   "execution_count": 13,
   "id": "9e936c73",
   "metadata": {},
   "outputs": [
    {
     "data": {
      "text/plain": [
       "False"
      ]
     },
     "execution_count": 13,
     "metadata": {},
     "output_type": "execute_result"
    }
   ],
   "source": [
    "#Now again checking for missing values.\n",
    "df.isnull().values.any()"
   ]
  },
  {
   "cell_type": "markdown",
   "id": "e473c236",
   "metadata": {},
   "source": [
    "Now out null values is removed. we can see it via visualization."
   ]
  },
  {
   "cell_type": "code",
   "execution_count": 14,
   "id": "11e49fd4",
   "metadata": {},
   "outputs": [
    {
     "data": {
      "image/png": "[encoded data removed]",
      "text/plain": [
       "<Figure size 432x288 with 1 Axes>"
      ]
     },
     "metadata": {
      "needs_background": "light"
     },
     "output_type": "display_data"
    }
   ],
   "source": [
    "#Now again check it via visualization\n",
    "sns.heatmap(df.isnull(),yticklabels=False,cbar=False,cmap='tab20')\n",
    "plt.show()"
   ]
  },
  {
   "cell_type": "markdown",
   "id": "3e2c39b2",
   "metadata": {},
   "source": [
    "**Now our data is ready for Visualization without any missing values.**"
   ]
  },
  {
   "cell_type": "code",
   "execution_count": 15,
   "id": "f287edb2",
   "metadata": {},
   "outputs": [
    {
     "data": {
      "text/html": [
       "<div>\n",
       "<style scoped>\n",
       "    .dataframe tbody tr th:only-of-type {\n",
       "        vertical-align: middle;\n",
       "    }\n",
       "\n",
       "    .dataframe tbody tr th {\n",
       "        vertical-align: top;\n",
       "    }\n",
       "\n",
       "    .dataframe thead th {\n",
       "        text-align: right;\n",
       "    }\n",
       "</style>\n",
       "<table border=\"1\" class=\"dataframe\">\n",
       "  <thead>\n",
       "    <tr style=\"text-align: right;\">\n",
       "      <th></th>\n",
       "      <th>age</th>\n",
       "      <th>workclass</th>\n",
       "      <th>fnlwgt</th>\n",
       "      <th>education</th>\n",
       "      <th>education_num</th>\n",
       "      <th>marital_status</th>\n",
       "      <th>occupation</th>\n",
       "      <th>relationship</th>\n",
       "      <th>race</th>\n",
       "      <th>sex</th>\n",
       "      <th>capital_gain</th>\n",
       "      <th>capital_loss</th>\n",
       "      <th>hours_per_week</th>\n",
       "      <th>native_country</th>\n",
       "      <th>income</th>\n",
       "    </tr>\n",
       "  </thead>\n",
       "  <tbody>\n",
       "    <tr>\n",
       "      <th>0</th>\n",
       "      <td>50</td>\n",
       "      <td>Self-emp-not-inc</td>\n",
       "      <td>83311</td>\n",
       "      <td>Bachelors</td>\n",
       "      <td>13</td>\n",
       "      <td>Married-civ-spouse</td>\n",
       "      <td>Exec-managerial</td>\n",
       "      <td>Husband</td>\n",
       "      <td>White</td>\n",
       "      <td>Male</td>\n",
       "      <td>0</td>\n",
       "      <td>0</td>\n",
       "      <td>13</td>\n",
       "      <td>United-States</td>\n",
       "      <td>&lt;=50K</td>\n",
       "    </tr>\n",
       "    <tr>\n",
       "      <th>1</th>\n",
       "      <td>38</td>\n",
       "      <td>Private</td>\n",
       "      <td>215646</td>\n",
       "      <td>HS-grad</td>\n",
       "      <td>9</td>\n",
       "      <td>Divorced</td>\n",
       "      <td>Handlers-cleaners</td>\n",
       "      <td>Not-in-family</td>\n",
       "      <td>White</td>\n",
       "      <td>Male</td>\n",
       "      <td>0</td>\n",
       "      <td>0</td>\n",
       "      <td>40</td>\n",
       "      <td>United-States</td>\n",
       "      <td>&lt;=50K</td>\n",
       "    </tr>\n",
       "    <tr>\n",
       "      <th>2</th>\n",
       "      <td>53</td>\n",
       "      <td>Private</td>\n",
       "      <td>234721</td>\n",
       "      <td>11th</td>\n",
       "      <td>7</td>\n",
       "      <td>Married-civ-spouse</td>\n",
       "      <td>Handlers-cleaners</td>\n",
       "      <td>Husband</td>\n",
       "      <td>Black</td>\n",
       "      <td>Male</td>\n",
       "      <td>0</td>\n",
       "      <td>0</td>\n",
       "      <td>40</td>\n",
       "      <td>United-States</td>\n",
       "      <td>&lt;=50K</td>\n",
       "    </tr>\n",
       "    <tr>\n",
       "      <th>3</th>\n",
       "      <td>28</td>\n",
       "      <td>Private</td>\n",
       "      <td>338409</td>\n",
       "      <td>Bachelors</td>\n",
       "      <td>13</td>\n",
       "      <td>Married-civ-spouse</td>\n",
       "      <td>Prof-specialty</td>\n",
       "      <td>Wife</td>\n",
       "      <td>Black</td>\n",
       "      <td>Female</td>\n",
       "      <td>0</td>\n",
       "      <td>0</td>\n",
       "      <td>40</td>\n",
       "      <td>Cuba</td>\n",
       "      <td>&lt;=50K</td>\n",
       "    </tr>\n",
       "    <tr>\n",
       "      <th>4</th>\n",
       "      <td>37</td>\n",
       "      <td>Private</td>\n",
       "      <td>284582</td>\n",
       "      <td>Masters</td>\n",
       "      <td>14</td>\n",
       "      <td>Married-civ-spouse</td>\n",
       "      <td>Exec-managerial</td>\n",
       "      <td>Wife</td>\n",
       "      <td>White</td>\n",
       "      <td>Female</td>\n",
       "      <td>0</td>\n",
       "      <td>0</td>\n",
       "      <td>40</td>\n",
       "      <td>United-States</td>\n",
       "      <td>&lt;=50K</td>\n",
       "    </tr>\n",
       "  </tbody>\n",
       "</table>\n",
       "</div>"
      ],
      "text/plain": [
       "   age         workclass  fnlwgt  education  education_num  \\\n",
       "0   50  Self-emp-not-inc   83311  Bachelors             13   \n",
       "1   38           Private  215646    HS-grad              9   \n",
       "2   53           Private  234721       11th              7   \n",
       "3   28           Private  338409  Bachelors             13   \n",
       "4   37           Private  284582    Masters             14   \n",
       "\n",
       "       marital_status         occupation   relationship   race     sex  \\\n",
       "0  Married-civ-spouse    Exec-managerial        Husband  White    Male   \n",
       "1            Divorced  Handlers-cleaners  Not-in-family  White    Male   \n",
       "2  Married-civ-spouse  Handlers-cleaners        Husband  Black    Male   \n",
       "3  Married-civ-spouse     Prof-specialty           Wife  Black  Female   \n",
       "4  Married-civ-spouse    Exec-managerial           Wife  White  Female   \n",
       "\n",
       "   capital_gain  capital_loss  hours_per_week native_country income  \n",
       "0             0             0              13  United-States  <=50K  \n",
       "1             0             0              40  United-States  <=50K  \n",
       "2             0             0              40  United-States  <=50K  \n",
       "3             0             0              40           Cuba  <=50K  \n",
       "4             0             0              40  United-States  <=50K  "
      ]
     },
     "execution_count": 15,
     "metadata": {},
     "output_type": "execute_result"
    }
   ],
   "source": [
    "#Putting the data into pandas DataFrame\n",
    "df_income=pd.DataFrame(data=df)\n",
    "df_income.head()"
   ]
  },
  {
   "cell_type": "code",
   "execution_count": 16,
   "id": "b30c1e1e",
   "metadata": {},
   "outputs": [
    {
     "data": {
      "text/plain": [
       "Index(['age', 'workclass', 'fnlwgt', 'education', 'education_num',\n",
       "       'marital_status', 'occupation', 'relationship', 'race', 'sex',\n",
       "       'capital_gain', 'capital_loss', 'hours_per_week', 'native_country',\n",
       "       'income'],\n",
       "      dtype='object')"
      ]
     },
     "execution_count": 16,
     "metadata": {},
     "output_type": "execute_result"
    }
   ],
   "source": [
    "#Checking the various columns.\n",
    "df_income.columns"
   ]
  },
  {
   "cell_type": "code",
   "execution_count": 17,
   "id": "24bfbf88",
   "metadata": {},
   "outputs": [
    {
     "data": {
      "text/plain": [
       "age                int64\n",
       "workclass         object\n",
       "fnlwgt             int64\n",
       "education         object\n",
       "education_num      int64\n",
       "marital_status    object\n",
       "occupation        object\n",
       "relationship      object\n",
       "race              object\n",
       "sex               object\n",
       "capital_gain       int64\n",
       "capital_loss       int64\n",
       "hours_per_week     int64\n",
       "native_country    object\n",
       "income            object\n",
       "dtype: object"
      ]
     },
     "execution_count": 17,
     "metadata": {},
     "output_type": "execute_result"
    }
   ],
   "source": [
    "#Checking the data types of the columns\n",
    "df_income.dtypes"
   ]
  },
  {
   "cell_type": "markdown",
   "id": "12933d1a",
   "metadata": {},
   "source": [
    "Observation:\n",
    "    Numeric features\n",
    "    Numeric_features = ['age','fnlwgt','education_num','capital_gain','capital_loss','hours_per_week']\n",
    "    \n",
    "    Categorical features:\n",
    "    categorical_features=['workclass','education','marital_status','occupation','relationship','race','sex','native_country','income']    \n",
    "        "
   ]
  },
  {
   "cell_type": "markdown",
   "id": "3c583f47",
   "metadata": {},
   "source": [
    "**For Analyzing the data with targer i.e income we have to change income into numeric type.**"
   ]
  },
  {
   "cell_type": "code",
   "execution_count": 18,
   "id": "36293054",
   "metadata": {},
   "outputs": [
    {
     "data": {
      "text/plain": [
       "0        <=50K\n",
       "1        <=50K\n",
       "2        <=50K\n",
       "3        <=50K\n",
       "4        <=50K\n",
       "         ...  \n",
       "32555    <=50K\n",
       "32556     >50K\n",
       "32557    <=50K\n",
       "32558    <=50K\n",
       "32559     >50K\n",
       "Name: income, Length: 32560, dtype: object"
      ]
     },
     "execution_count": 18,
     "metadata": {},
     "output_type": "execute_result"
    }
   ],
   "source": [
    "#Changing the data type of target column.\n",
    "df_income['income']"
   ]
  },
  {
   "cell_type": "code",
   "execution_count": 19,
   "id": "3aedc382",
   "metadata": {},
   "outputs": [
    {
     "data": {
      "text/plain": [
       "dtype('int64')"
      ]
     },
     "execution_count": 19,
     "metadata": {},
     "output_type": "execute_result"
    }
   ],
   "source": [
    "#Changing the data type of target column.\n",
    "\n",
    "df_income['income'] = df_income['income'].map({'<=50K': 0, '>50K':1})\n",
    "df_income['income'].dtypes"
   ]
  },
  {
   "cell_type": "code",
   "execution_count": 20,
   "id": "14deff20",
   "metadata": {},
   "outputs": [
    {
     "data": {
      "text/plain": [
       "array([0, 1], dtype=int64)"
      ]
     },
     "execution_count": 20,
     "metadata": {},
     "output_type": "execute_result"
    }
   ],
   "source": [
    "df_income['income'].unique()"
   ]
  },
  {
   "cell_type": "markdown",
   "id": "dc10ebde",
   "metadata": {},
   "source": [
    "Observation:\n",
    "    \n",
    "    Here 1 stands for greater than 50K and 0 stands for less than equal to 50K"
   ]
  },
  {
   "cell_type": "markdown",
   "id": "63a0eca4",
   "metadata": {},
   "source": [
    "# Summary Statistics"
   ]
  },
  {
   "cell_type": "code",
   "execution_count": 21,
   "id": "43c504f6",
   "metadata": {},
   "outputs": [
    {
     "data": {
      "text/html": [
       "<div>\n",
       "<style scoped>\n",
       "    .dataframe tbody tr th:only-of-type {\n",
       "        vertical-align: middle;\n",
       "    }\n",
       "\n",
       "    .dataframe tbody tr th {\n",
       "        vertical-align: top;\n",
       "    }\n",
       "\n",
       "    .dataframe thead th {\n",
       "        text-align: right;\n",
       "    }\n",
       "</style>\n",
       "<table border=\"1\" class=\"dataframe\">\n",
       "  <thead>\n",
       "    <tr style=\"text-align: right;\">\n",
       "      <th></th>\n",
       "      <th>age</th>\n",
       "      <th>fnlwgt</th>\n",
       "      <th>education_num</th>\n",
       "      <th>capital_gain</th>\n",
       "      <th>capital_loss</th>\n",
       "      <th>hours_per_week</th>\n",
       "      <th>income</th>\n",
       "    </tr>\n",
       "  </thead>\n",
       "  <tbody>\n",
       "    <tr>\n",
       "      <th>count</th>\n",
       "      <td>32560.000000</td>\n",
       "      <td>3.256000e+04</td>\n",
       "      <td>32560.000000</td>\n",
       "      <td>32560.000000</td>\n",
       "      <td>32560.000000</td>\n",
       "      <td>32560.000000</td>\n",
       "      <td>32560.000000</td>\n",
       "    </tr>\n",
       "    <tr>\n",
       "      <th>mean</th>\n",
       "      <td>38.581634</td>\n",
       "      <td>1.897818e+05</td>\n",
       "      <td>10.080590</td>\n",
       "      <td>1077.615172</td>\n",
       "      <td>87.306511</td>\n",
       "      <td>40.437469</td>\n",
       "      <td>0.240817</td>\n",
       "    </tr>\n",
       "    <tr>\n",
       "      <th>std</th>\n",
       "      <td>13.640642</td>\n",
       "      <td>1.055498e+05</td>\n",
       "      <td>2.572709</td>\n",
       "      <td>7385.402999</td>\n",
       "      <td>402.966116</td>\n",
       "      <td>12.347618</td>\n",
       "      <td>0.427586</td>\n",
       "    </tr>\n",
       "    <tr>\n",
       "      <th>min</th>\n",
       "      <td>17.000000</td>\n",
       "      <td>1.228500e+04</td>\n",
       "      <td>1.000000</td>\n",
       "      <td>0.000000</td>\n",
       "      <td>0.000000</td>\n",
       "      <td>1.000000</td>\n",
       "      <td>0.000000</td>\n",
       "    </tr>\n",
       "    <tr>\n",
       "      <th>25%</th>\n",
       "      <td>28.000000</td>\n",
       "      <td>1.178315e+05</td>\n",
       "      <td>9.000000</td>\n",
       "      <td>0.000000</td>\n",
       "      <td>0.000000</td>\n",
       "      <td>40.000000</td>\n",
       "      <td>0.000000</td>\n",
       "    </tr>\n",
       "    <tr>\n",
       "      <th>50%</th>\n",
       "      <td>37.000000</td>\n",
       "      <td>1.783630e+05</td>\n",
       "      <td>10.000000</td>\n",
       "      <td>0.000000</td>\n",
       "      <td>0.000000</td>\n",
       "      <td>40.000000</td>\n",
       "      <td>0.000000</td>\n",
       "    </tr>\n",
       "    <tr>\n",
       "      <th>75%</th>\n",
       "      <td>48.000000</td>\n",
       "      <td>2.370545e+05</td>\n",
       "      <td>12.000000</td>\n",
       "      <td>0.000000</td>\n",
       "      <td>0.000000</td>\n",
       "      <td>45.000000</td>\n",
       "      <td>0.000000</td>\n",
       "    </tr>\n",
       "    <tr>\n",
       "      <th>max</th>\n",
       "      <td>90.000000</td>\n",
       "      <td>1.484705e+06</td>\n",
       "      <td>16.000000</td>\n",
       "      <td>99999.000000</td>\n",
       "      <td>4356.000000</td>\n",
       "      <td>99.000000</td>\n",
       "      <td>1.000000</td>\n",
       "    </tr>\n",
       "  </tbody>\n",
       "</table>\n",
       "</div>"
      ],
      "text/plain": [
       "                age        fnlwgt  education_num  capital_gain  capital_loss  \\\n",
       "count  32560.000000  3.256000e+04   32560.000000  32560.000000  32560.000000   \n",
       "mean      38.581634  1.897818e+05      10.080590   1077.615172     87.306511   \n",
       "std       13.640642  1.055498e+05       2.572709   7385.402999    402.966116   \n",
       "min       17.000000  1.228500e+04       1.000000      0.000000      0.000000   \n",
       "25%       28.000000  1.178315e+05       9.000000      0.000000      0.000000   \n",
       "50%       37.000000  1.783630e+05      10.000000      0.000000      0.000000   \n",
       "75%       48.000000  2.370545e+05      12.000000      0.000000      0.000000   \n",
       "max       90.000000  1.484705e+06      16.000000  99999.000000   4356.000000   \n",
       "\n",
       "       hours_per_week        income  \n",
       "count    32560.000000  32560.000000  \n",
       "mean        40.437469      0.240817  \n",
       "std         12.347618      0.427586  \n",
       "min          1.000000      0.000000  \n",
       "25%         40.000000      0.000000  \n",
       "50%         40.000000      0.000000  \n",
       "75%         45.000000      0.000000  \n",
       "max         99.000000      1.000000  "
      ]
     },
     "execution_count": 21,
     "metadata": {},
     "output_type": "execute_result"
    }
   ],
   "source": [
    "df_income.describe()"
   ]
  },
  {
   "cell_type": "markdown",
   "id": "4bc31c34",
   "metadata": {},
   "source": [
    "Observation:\n",
    "\n",
    "  1-Minimum age is 17 years and maximum age is 90 years in data set.\n",
    "  \n",
    "  2-Minimum education_num is 1 and maximim is 16.\n",
    "  \n",
    "  3-Minimum hours_per_week is 1 and maximum is 99 hours_per_week.\n",
    "  \n",
    "  4-In age,fnlwgt,education_num,capital_gain,capital_loss attributes mean is greater than median therefore in these attributes data is Right skewed.\n",
    "  \n",
    "  5-Difference between 75% and max is higher in age,fnlwgt,capital_gain,capital_loss and hours_per_week therefore outliers present in these column which we have to remove it."
   ]
  },
  {
   "cell_type": "markdown",
   "id": "fb587bc1",
   "metadata": {},
   "source": [
    "# Exporing Data Variables"
   ]
  },
  {
   "cell_type": "code",
   "execution_count": 22,
   "id": "c44f9dcd",
   "metadata": {},
   "outputs": [
    {
     "name": "stdout",
     "output_type": "stream",
     "text": [
      "workclass:['Self-emp-not-inc' 'Private' 'State-gov' 'Federal-gov' 'Local-gov'\n",
      " 'Self-emp-inc' 'Without-pay' 'Never-worked']\n",
      "Private             24532\n",
      "Self-emp-not-inc     2541\n",
      "Local-gov            2093\n",
      "State-gov            1297\n",
      "Self-emp-inc         1116\n",
      "Federal-gov           960\n",
      "Without-pay            14\n",
      "Never-worked            7\n",
      "Name: workclass, dtype: int64\n",
      "***********************************************************\n",
      "\n",
      "\n",
      "education:['Bachelors' 'HS-grad' '11th' 'Masters' '9th' 'Some-college' 'Assoc-acdm'\n",
      " 'Assoc-voc' '7th-8th' 'Doctorate' 'Prof-school' '5th-6th' '10th'\n",
      " '1st-4th' 'Preschool' '12th']\n",
      "HS-grad         10501\n",
      "Some-college     7291\n",
      "Bachelors        5354\n",
      "Masters          1723\n",
      "Assoc-voc        1382\n",
      "11th             1175\n",
      "Assoc-acdm       1067\n",
      "10th              933\n",
      "7th-8th           646\n",
      "Prof-school       576\n",
      "9th               514\n",
      "12th              433\n",
      "Doctorate         413\n",
      "5th-6th           333\n",
      "1st-4th           168\n",
      "Preschool          51\n",
      "Name: education, dtype: int64\n",
      "***********************************************************\n",
      "\n",
      "\n",
      "marital_status:['Married-civ-spouse' 'Divorced' 'Married-spouse-absent' 'Never-married'\n",
      " 'Separated' 'Married-AF-spouse' 'Widowed']\n",
      "Married-civ-spouse       14976\n",
      "Never-married            10682\n",
      "Divorced                  4443\n",
      "Separated                 1025\n",
      "Widowed                    993\n",
      "Married-spouse-absent      418\n",
      "Married-AF-spouse           23\n",
      "Name: marital_status, dtype: int64\n",
      "***********************************************************\n",
      "\n",
      "\n",
      "occupation:['Exec-managerial' 'Handlers-cleaners' 'Prof-specialty' 'Other-service'\n",
      " 'Adm-clerical' 'Sales' 'Craft-repair' 'Transport-moving'\n",
      " 'Farming-fishing' 'Machine-op-inspct' 'Tech-support' 'Protective-serv'\n",
      " 'Armed-Forces' 'Priv-house-serv']\n",
      "Prof-specialty       5983\n",
      "Craft-repair         4099\n",
      "Exec-managerial      4066\n",
      "Adm-clerical         3769\n",
      "Sales                3650\n",
      "Other-service        3295\n",
      "Machine-op-inspct    2002\n",
      "Transport-moving     1597\n",
      "Handlers-cleaners    1370\n",
      "Farming-fishing       994\n",
      "Tech-support          928\n",
      "Protective-serv       649\n",
      "Priv-house-serv       149\n",
      "Armed-Forces            9\n",
      "Name: occupation, dtype: int64\n",
      "***********************************************************\n",
      "\n",
      "\n",
      "relationship:['Husband' 'Not-in-family' 'Wife' 'Own-child' 'Unmarried' 'Other-relative']\n",
      "Husband           13193\n",
      "Not-in-family      8304\n",
      "Own-child          5068\n",
      "Unmarried          3446\n",
      "Wife               1568\n",
      "Other-relative      981\n",
      "Name: relationship, dtype: int64\n",
      "***********************************************************\n",
      "\n",
      "\n",
      "race:['White' 'Black' 'Asian-Pac-Islander' 'Amer-Indian-Eskimo' 'Other']\n",
      "White                 27815\n",
      "Black                  3124\n",
      "Asian-Pac-Islander     1039\n",
      "Amer-Indian-Eskimo      311\n",
      "Other                   271\n",
      "Name: race, dtype: int64\n",
      "***********************************************************\n",
      "\n",
      "\n",
      "sex:['Male' 'Female']\n",
      "Male      21789\n",
      "Female    10771\n",
      "Name: sex, dtype: int64\n",
      "***********************************************************\n",
      "\n",
      "\n",
      "native_country:['United-States' 'Cuba' 'Jamaica' 'India' 'Mexico' 'South' 'Puerto-Rico'\n",
      " 'Honduras' 'England' 'Canada' 'Germany' 'Iran' 'Philippines' 'Italy'\n",
      " 'Poland' 'Columbia' 'Cambodia' 'Thailand' 'Ecuador' 'Laos' 'Taiwan'\n",
      " 'Haiti' 'Portugal' 'Dominican-Republic' 'El-Salvador' 'France'\n",
      " 'Guatemala' 'China' 'Japan' 'Yugoslavia' 'Peru'\n",
      " 'Outlying-US(Guam-USVI-etc)' 'Scotland' 'Trinadad&Tobago' 'Greece'\n",
      " 'Nicaragua' 'Vietnam' 'Hong' 'Ireland' 'Hungary' 'Holand-Netherlands']\n",
      "United-States                 29752\n",
      "Mexico                          643\n",
      "Philippines                     198\n",
      "Germany                         137\n",
      "Canada                          121\n",
      "Puerto-Rico                     114\n",
      "El-Salvador                     106\n",
      "India                           100\n",
      "Cuba                             95\n",
      "England                          90\n",
      "Jamaica                          81\n",
      "South                            80\n",
      "China                            75\n",
      "Italy                            73\n",
      "Dominican-Republic               70\n",
      "Vietnam                          67\n",
      "Guatemala                        64\n",
      "Japan                            62\n",
      "Poland                           60\n",
      "Columbia                         59\n",
      "Taiwan                           51\n",
      "Haiti                            44\n",
      "Iran                             43\n",
      "Portugal                         37\n",
      "Nicaragua                        34\n",
      "Peru                             31\n",
      "France                           29\n",
      "Greece                           29\n",
      "Ecuador                          28\n",
      "Ireland                          24\n",
      "Hong                             20\n",
      "Cambodia                         19\n",
      "Trinadad&Tobago                  19\n",
      "Laos                             18\n",
      "Thailand                         18\n",
      "Yugoslavia                       16\n",
      "Outlying-US(Guam-USVI-etc)       14\n",
      "Honduras                         13\n",
      "Hungary                          13\n",
      "Scotland                         12\n",
      "Holand-Netherlands                1\n",
      "Name: native_country, dtype: int64\n",
      "***********************************************************\n",
      "\n",
      "\n"
     ]
    }
   ],
   "source": [
    "#Printing the object data types and their unique values\n",
    "for column in df_income.columns:\n",
    "    if df_income[column].dtype==object:\n",
    "        print(str(column) + ':' + str(df_income[column].unique()))\n",
    "        print(df_income[column].value_counts())\n",
    "        print('***********************************************************')\n",
    "        print('\\n')"
   ]
  },
  {
   "cell_type": "markdown",
   "id": "c3799d1b",
   "metadata": {},
   "source": [
    "# To check the correlation"
   ]
  },
  {
   "cell_type": "code",
   "execution_count": 23,
   "id": "715eb683",
   "metadata": {},
   "outputs": [
    {
     "data": {
      "text/html": [
       "<div>\n",
       "<style scoped>\n",
       "    .dataframe tbody tr th:only-of-type {\n",
       "        vertical-align: middle;\n",
       "    }\n",
       "\n",
       "    .dataframe tbody tr th {\n",
       "        vertical-align: top;\n",
       "    }\n",
       "\n",
       "    .dataframe thead th {\n",
       "        text-align: right;\n",
       "    }\n",
       "</style>\n",
       "<table border=\"1\" class=\"dataframe\">\n",
       "  <thead>\n",
       "    <tr style=\"text-align: right;\">\n",
       "      <th></th>\n",
       "      <th>age</th>\n",
       "      <th>fnlwgt</th>\n",
       "      <th>education_num</th>\n",
       "      <th>capital_gain</th>\n",
       "      <th>capital_loss</th>\n",
       "      <th>hours_per_week</th>\n",
       "      <th>income</th>\n",
       "    </tr>\n",
       "  </thead>\n",
       "  <tbody>\n",
       "    <tr>\n",
       "      <th>age</th>\n",
       "      <td>1.000000</td>\n",
       "      <td>-0.076646</td>\n",
       "      <td>0.036527</td>\n",
       "      <td>0.077674</td>\n",
       "      <td>0.057775</td>\n",
       "      <td>0.068756</td>\n",
       "      <td>0.234039</td>\n",
       "    </tr>\n",
       "    <tr>\n",
       "      <th>fnlwgt</th>\n",
       "      <td>-0.076646</td>\n",
       "      <td>1.000000</td>\n",
       "      <td>-0.043159</td>\n",
       "      <td>0.000437</td>\n",
       "      <td>-0.010259</td>\n",
       "      <td>-0.018770</td>\n",
       "      <td>-0.009481</td>\n",
       "    </tr>\n",
       "    <tr>\n",
       "      <th>education_num</th>\n",
       "      <td>0.036527</td>\n",
       "      <td>-0.043159</td>\n",
       "      <td>1.000000</td>\n",
       "      <td>0.122627</td>\n",
       "      <td>0.079932</td>\n",
       "      <td>0.148127</td>\n",
       "      <td>0.335182</td>\n",
       "    </tr>\n",
       "    <tr>\n",
       "      <th>capital_gain</th>\n",
       "      <td>0.077674</td>\n",
       "      <td>0.000437</td>\n",
       "      <td>0.122627</td>\n",
       "      <td>1.000000</td>\n",
       "      <td>-0.031614</td>\n",
       "      <td>0.078409</td>\n",
       "      <td>0.223333</td>\n",
       "    </tr>\n",
       "    <tr>\n",
       "      <th>capital_loss</th>\n",
       "      <td>0.057775</td>\n",
       "      <td>-0.010259</td>\n",
       "      <td>0.079932</td>\n",
       "      <td>-0.031614</td>\n",
       "      <td>1.000000</td>\n",
       "      <td>0.054256</td>\n",
       "      <td>0.150523</td>\n",
       "    </tr>\n",
       "    <tr>\n",
       "      <th>hours_per_week</th>\n",
       "      <td>0.068756</td>\n",
       "      <td>-0.018770</td>\n",
       "      <td>0.148127</td>\n",
       "      <td>0.078409</td>\n",
       "      <td>0.054256</td>\n",
       "      <td>1.000000</td>\n",
       "      <td>0.229690</td>\n",
       "    </tr>\n",
       "    <tr>\n",
       "      <th>income</th>\n",
       "      <td>0.234039</td>\n",
       "      <td>-0.009481</td>\n",
       "      <td>0.335182</td>\n",
       "      <td>0.223333</td>\n",
       "      <td>0.150523</td>\n",
       "      <td>0.229690</td>\n",
       "      <td>1.000000</td>\n",
       "    </tr>\n",
       "  </tbody>\n",
       "</table>\n",
       "</div>"
      ],
      "text/plain": [
       "                     age    fnlwgt  education_num  capital_gain  capital_loss  \\\n",
       "age             1.000000 -0.076646       0.036527      0.077674      0.057775   \n",
       "fnlwgt         -0.076646  1.000000      -0.043159      0.000437     -0.010259   \n",
       "education_num   0.036527 -0.043159       1.000000      0.122627      0.079932   \n",
       "capital_gain    0.077674  0.000437       0.122627      1.000000     -0.031614   \n",
       "capital_loss    0.057775 -0.010259       0.079932     -0.031614      1.000000   \n",
       "hours_per_week  0.068756 -0.018770       0.148127      0.078409      0.054256   \n",
       "income          0.234039 -0.009481       0.335182      0.223333      0.150523   \n",
       "\n",
       "                hours_per_week    income  \n",
       "age                   0.068756  0.234039  \n",
       "fnlwgt               -0.018770 -0.009481  \n",
       "education_num         0.148127  0.335182  \n",
       "capital_gain          0.078409  0.223333  \n",
       "capital_loss          0.054256  0.150523  \n",
       "hours_per_week        1.000000  0.229690  \n",
       "income                0.229690  1.000000  "
      ]
     },
     "execution_count": 23,
     "metadata": {},
     "output_type": "execute_result"
    }
   ],
   "source": [
    "df_cor=df_income.corr()\n",
    "df_cor"
   ]
  },
  {
   "cell_type": "markdown",
   "id": "8524c752",
   "metadata": {},
   "source": [
    "Here we can see the correlation between the columns.\n",
    "\n",
    "For Better understanding we can see is via visualization(with the help of heatmap)."
   ]
  },
  {
   "cell_type": "code",
   "execution_count": 24,
   "id": "882e17be",
   "metadata": {},
   "outputs": [
    {
     "data": {
      "image/png": "[encoded data removed]",
      "text/plain": [
       "<Figure size 576x432 with 2 Axes>"
      ]
     },
     "metadata": {
      "needs_background": "light"
     },
     "output_type": "display_data"
    }
   ],
   "source": [
    "plt.figure(figsize=(8,6))\n",
    "sns.heatmap(df_cor,annot=True,fmt='.0%',cmap='Blues')\n",
    "plt.show()"
   ]
  },
  {
   "cell_type": "code",
   "execution_count": 25,
   "id": "15792441",
   "metadata": {},
   "outputs": [
    {
     "data": {
      "text/plain": [
       "Text(0.5, 1.0, 'Correlation with target variable')"
      ]
     },
     "execution_count": 25,
     "metadata": {},
     "output_type": "execute_result"
    },
    {
     "data": {
      "image/png": "[encoded data removed]",
      "text/plain": [
       "<Figure size 576x432 with 1 Axes>"
      ]
     },
     "metadata": {
      "needs_background": "light"
     },
     "output_type": "display_data"
    }
   ],
   "source": [
    "plt.figure(figsize=(8,6))\n",
    "df_income.drop('income',axis=1).corrwith(df_income['income']).plot(kind='bar',grid=True)\n",
    "plt.xticks(rotation=20)\n",
    "plt.title('Correlation with target variable')"
   ]
  },
  {
   "cell_type": "markdown",
   "id": "3b9943e5",
   "metadata": {},
   "source": [
    "Oservation:\n",
    "    \n",
    "    1-fnlwgt is only negatively correlated with target variable income.\n",
    "    \n",
    "    2-edcation number is highly correlated with target vaiable among all input variables."
   ]
  },
  {
   "cell_type": "markdown",
   "id": "99531fbe",
   "metadata": {},
   "source": [
    "# Data Visuaization"
   ]
  },
  {
   "cell_type": "markdown",
   "id": "644dc88b",
   "metadata": {},
   "source": [
    "Our feature variable of interest is income.\n",
    "\n",
    "it refers to the monthly Income of the people.\n",
    "\n",
    "We already change it integer valued as it contains only two number 0 and 1.\n",
    "\n",
    "1 stands for greater than 50K\n",
    "\n",
    "0 stands for less than equal to 50K"
   ]
  },
  {
   "cell_type": "markdown",
   "id": "721f7933",
   "metadata": {},
   "source": [
    "# Univariate Analysis"
   ]
  },
  {
   "cell_type": "code",
   "execution_count": 26,
   "id": "947e45c4",
   "metadata": {},
   "outputs": [
    {
     "data": {
      "image/png": "[encoded data removed]",
      "text/plain": [
       "<Figure size 432x288 with 1 Axes>"
      ]
     },
     "metadata": {
      "needs_background": "light"
     },
     "output_type": "display_data"
    },
    {
     "name": "stdout",
     "output_type": "stream",
     "text": [
      "0    24719\n",
      "1     7841\n",
      "Name: income, dtype: int64\n"
     ]
    }
   ],
   "source": [
    "#Checking income count of people.\n",
    "plt.subplots(figsize=(6,4))\n",
    "sns.countplot(x='income',data=df_income)\n",
    "plt.title('Income count of people')\n",
    "plt.xlabel('0 = <50K and 1=>50K')\n",
    "plt.ylabel('Income Count')\n",
    "plt.show()\n",
    "\n",
    "print(df_income.income.value_counts())"
   ]
  },
  {
   "cell_type": "markdown",
   "id": "395e08b2",
   "metadata": {},
   "source": [
    "Observation:\n",
    "    \n",
    "    1-24719 peoples income is less than equal to 50K.\n",
    "    \n",
    "    2-Only 7841 people getting income more than 50K."
   ]
  },
  {
   "cell_type": "code",
   "execution_count": 27,
   "id": "a6b4007f",
   "metadata": {},
   "outputs": [
    {
     "data": {
      "image/png": "[encoded data removed]",
      "text/plain": [
       "<Figure size 432x288 with 1 Axes>"
      ]
     },
     "metadata": {
      "needs_background": "light"
     },
     "output_type": "display_data"
    },
    {
     "name": "stdout",
     "output_type": "stream",
     "text": [
      "Male      21789\n",
      "Female    10771\n",
      "Name: sex, dtype: int64\n"
     ]
    }
   ],
   "source": [
    "#Checking number of male and female.\n",
    "plt.subplots(figsize=(6,4))\n",
    "sns.countplot(x='sex',data=df_income)\n",
    "plt.title('Number of Male and Female')\n",
    "plt.show()\n",
    "\n",
    "print(df_income.sex.value_counts())"
   ]
  },
  {
   "cell_type": "markdown",
   "id": "22894738",
   "metadata": {},
   "source": [
    "Observation:\n",
    "     \n",
    "        There are 21789 male and 10771 female"
   ]
  },
  {
   "cell_type": "code",
   "execution_count": 28,
   "id": "ccc8c834",
   "metadata": {},
   "outputs": [
    {
     "data": {
      "image/png": "[encoded data removed]",
      "text/plain": [
       "<Figure size 1584x720 with 1 Axes>"
      ]
     },
     "metadata": {
      "needs_background": "light"
     },
     "output_type": "display_data"
    }
   ],
   "source": [
    "#Checking number of people with different-2 age grop\n",
    "plt.subplots(figsize=(22,10))\n",
    "sns.countplot(x='age',data=df_income)\n",
    "plt.title('Number peoplt with different-2 age')\n",
    "plt.show()"
   ]
  },
  {
   "cell_type": "markdown",
   "id": "c42c3b14",
   "metadata": {},
   "source": [
    "Observation:\n",
    "    \n",
    "   1-Maximum people is age of 36 years i.e 898.\n",
    "      \n",
    "   2-Only one people is age of 86 and 87 years.\n",
    "   \n",
    "   3- There are 43 peoples of age 90 years which is highest age group of our data set. "
   ]
  },
  {
   "cell_type": "code",
   "execution_count": 29,
   "id": "07f45235",
   "metadata": {},
   "outputs": [
    {
     "data": {
      "image/png": "[encoded data removed]",
      "text/plain": [
       "<Figure size 720x432 with 1 Axes>"
      ]
     },
     "metadata": {
      "needs_background": "light"
     },
     "output_type": "display_data"
    },
    {
     "name": "stdout",
     "output_type": "stream",
     "text": [
      "Married-civ-spouse       14976\n",
      "Never-married            10682\n",
      "Divorced                  4443\n",
      "Separated                 1025\n",
      "Widowed                    993\n",
      "Married-spouse-absent      418\n",
      "Married-AF-spouse           23\n",
      "Name: marital_status, dtype: int64\n"
     ]
    }
   ],
   "source": [
    "#Marital_status of people\n",
    "plt.subplots(figsize=(10,6))\n",
    "sns.countplot(x='marital_status',data=df_income)\n",
    "plt.title('Number of people by Marital Status')\n",
    "plt.xticks(rotation=20)\n",
    "plt.show()\n",
    "\n",
    "print(df_income.marital_status.value_counts())"
   ]
  },
  {
   "cell_type": "markdown",
   "id": "de6aedb9",
   "metadata": {},
   "source": [
    "Observation:\n",
    "    \n",
    "    Here we see the marital status of peoples that how many Seprated and how many divorce and others status."
   ]
  },
  {
   "cell_type": "code",
   "execution_count": 30,
   "id": "95e89c04",
   "metadata": {},
   "outputs": [
    {
     "data": {
      "image/png": "[encoded data removed]",
      "text/plain": [
       "<Figure size 720x432 with 1 Axes>"
      ]
     },
     "metadata": {
      "needs_background": "light"
     },
     "output_type": "display_data"
    },
    {
     "name": "stdout",
     "output_type": "stream",
     "text": [
      "Private             24532\n",
      "Self-emp-not-inc     2541\n",
      "Local-gov            2093\n",
      "State-gov            1297\n",
      "Self-emp-inc         1116\n",
      "Federal-gov           960\n",
      "Without-pay            14\n",
      "Never-worked            7\n",
      "Name: workclass, dtype: int64\n"
     ]
    }
   ],
   "source": [
    "# Work_Class of people\n",
    "plt.subplots(figsize=(10,6))\n",
    "sns.countplot(x='workclass',data=df_income)\n",
    "plt.title('Number of people by Work Class')\n",
    "plt.xticks(rotation=10)\n",
    "plt.show()\n",
    "\n",
    "print(df_income.workclass.value_counts())"
   ]
  },
  {
   "cell_type": "markdown",
   "id": "ee3e14a0",
   "metadata": {},
   "source": [
    "Findings:\n",
    "    \n",
    "    Above are the work place of peoples.\n",
    "    \n",
    "    24532 people is doing job in private sector and 7 people never worked."
   ]
  },
  {
   "cell_type": "code",
   "execution_count": 31,
   "id": "77d82ffa",
   "metadata": {},
   "outputs": [
    {
     "data": {
      "image/png": "[encoded data removed]",
      "text/plain": [
       "<Figure size 720x432 with 1 Axes>"
      ]
     },
     "metadata": {
      "needs_background": "light"
     },
     "output_type": "display_data"
    },
    {
     "name": "stdout",
     "output_type": "stream",
     "text": [
      "Husband           13193\n",
      "Not-in-family      8304\n",
      "Own-child          5068\n",
      "Unmarried          3446\n",
      "Wife               1568\n",
      "Other-relative      981\n",
      "Name: relationship, dtype: int64\n"
     ]
    }
   ],
   "source": [
    "#Relationship status of people\n",
    "plt.subplots(figsize=(10,6))\n",
    "sns.countplot(x='relationship',data=df_income)\n",
    "plt.title('Number of people by Relationship status')\n",
    "plt.xticks(rotation=10)\n",
    "plt.show()\n",
    "\n",
    "print(df_income.relationship.value_counts())"
   ]
  },
  {
   "cell_type": "markdown",
   "id": "03daf6a4",
   "metadata": {},
   "source": [
    "Findings:\n",
    "    \n",
    "    Here we see the relationship status of the peoples."
   ]
  },
  {
   "cell_type": "code",
   "execution_count": 32,
   "id": "8b87d1d7",
   "metadata": {},
   "outputs": [
    {
     "data": {
      "image/png": "[encoded data removed]",
      "text/plain": [
       "<Figure size 864x576 with 1 Axes>"
      ]
     },
     "metadata": {
      "needs_background": "light"
     },
     "output_type": "display_data"
    },
    {
     "name": "stdout",
     "output_type": "stream",
     "text": [
      "HS-grad         10501\n",
      "Some-college     7291\n",
      "Bachelors        5354\n",
      "Masters          1723\n",
      "Assoc-voc        1382\n",
      "11th             1175\n",
      "Assoc-acdm       1067\n",
      "10th              933\n",
      "7th-8th           646\n",
      "Prof-school       576\n",
      "9th               514\n",
      "12th              433\n",
      "Doctorate         413\n",
      "5th-6th           333\n",
      "1st-4th           168\n",
      "Preschool          51\n",
      "Name: education, dtype: int64\n"
     ]
    }
   ],
   "source": [
    "#Checking the number of people by education\n",
    "plt.subplots(figsize=(12,8))\n",
    "sns.countplot(x='education',data=df_income)\n",
    "plt.title('Number of People by education')\n",
    "plt.xticks(rotation=20)\n",
    "plt.show()\n",
    "\n",
    "print(df_income.education.value_counts())"
   ]
  },
  {
   "cell_type": "markdown",
   "id": "54f5ac85",
   "metadata": {},
   "source": [
    "Findings:\n",
    "    \n",
    "    1-Here we saw the counting of people by education.\n",
    "    \n",
    "    2-Maximum number of people i.e. 10501 has studied in HS-grad and only few are i.e. 51 has studided at Preschool level."
   ]
  },
  {
   "cell_type": "code",
   "execution_count": 33,
   "id": "e12af05d",
   "metadata": {},
   "outputs": [
    {
     "data": {
      "image/png": "[encoded data removed]",
      "text/plain": [
       "<Figure size 720x432 with 1 Axes>"
      ]
     },
     "metadata": {
      "needs_background": "light"
     },
     "output_type": "display_data"
    },
    {
     "name": "stdout",
     "output_type": "stream",
     "text": [
      "9     10501\n",
      "10     7291\n",
      "13     5354\n",
      "14     1723\n",
      "11     1382\n",
      "7      1175\n",
      "12     1067\n",
      "6       933\n",
      "4       646\n",
      "15      576\n",
      "5       514\n",
      "8       433\n",
      "16      413\n",
      "3       333\n",
      "2       168\n",
      "1        51\n",
      "Name: education_num, dtype: int64\n"
     ]
    }
   ],
   "source": [
    "#Checking the number of people by education number.\n",
    "plt.subplots(figsize=(10,6))\n",
    "sns.countplot(x='education_num',data=df_income)\n",
    "plt.title('Number of people by Number of Education')\n",
    "plt.xticks(rotation=20)\n",
    "plt.show()\n",
    "\n",
    "print(df_income.education_num.value_counts())"
   ]
  },
  {
   "cell_type": "code",
   "execution_count": 34,
   "id": "44229dff",
   "metadata": {},
   "outputs": [
    {
     "data": {
      "image/png": "[encoded data removed]",
      "text/plain": [
       "<Figure size 1152x432 with 1 Axes>"
      ]
     },
     "metadata": {
      "needs_background": "light"
     },
     "output_type": "display_data"
    },
    {
     "name": "stdout",
     "output_type": "stream",
     "text": [
      "United-States                 29752\n",
      "Mexico                          643\n",
      "Philippines                     198\n",
      "Germany                         137\n",
      "Canada                          121\n",
      "Puerto-Rico                     114\n",
      "El-Salvador                     106\n",
      "India                           100\n",
      "Cuba                             95\n",
      "England                          90\n",
      "Jamaica                          81\n",
      "South                            80\n",
      "China                            75\n",
      "Italy                            73\n",
      "Dominican-Republic               70\n",
      "Vietnam                          67\n",
      "Guatemala                        64\n",
      "Japan                            62\n",
      "Poland                           60\n",
      "Columbia                         59\n",
      "Taiwan                           51\n",
      "Haiti                            44\n",
      "Iran                             43\n",
      "Portugal                         37\n",
      "Nicaragua                        34\n",
      "Peru                             31\n",
      "France                           29\n",
      "Greece                           29\n",
      "Ecuador                          28\n",
      "Ireland                          24\n",
      "Hong                             20\n",
      "Cambodia                         19\n",
      "Trinadad&Tobago                  19\n",
      "Laos                             18\n",
      "Thailand                         18\n",
      "Yugoslavia                       16\n",
      "Outlying-US(Guam-USVI-etc)       14\n",
      "Honduras                         13\n",
      "Hungary                          13\n",
      "Scotland                         12\n",
      "Holand-Netherlands                1\n",
      "Name: native_country, dtype: int64\n"
     ]
    }
   ],
   "source": [
    "#Checking the number of people by Native coutry\n",
    "plt.subplots(figsize=(16,6))\n",
    "sns.countplot(x='native_country',data=df_income)\n",
    "plt.title('Number of People by Native Country')\n",
    "plt.xticks(rotation=40)\n",
    "plt.show()\n",
    "\n",
    "\n",
    "print(df_income.native_country.value_counts())\n",
    "\n"
   ]
  },
  {
   "cell_type": "code",
   "execution_count": 35,
   "id": "21afaef8",
   "metadata": {},
   "outputs": [
    {
     "data": {
      "image/png": "[encoded data removed]",
      "text/plain": [
       "<Figure size 432x288 with 1 Axes>"
      ]
     },
     "metadata": {
      "needs_background": "light"
     },
     "output_type": "display_data"
    }
   ],
   "source": [
    "#checking the mean of age group\n",
    "ages= df_income['age'].hist(bins=max(df_income['age']-min(df_income['age'])))\n",
    "mean_val = np.mean(df_income['age'])\n",
    "plt.axvline(mean_val,linewidth=4, color='red',label='mean age')\n",
    "plt.xlabel('age')\n",
    "plt.ylabel('count')\n",
    "plt.legend()\n",
    "plt.show()"
   ]
  },
  {
   "cell_type": "code",
   "execution_count": 36,
   "id": "d7d7bd99",
   "metadata": {},
   "outputs": [
    {
     "data": {
      "image/png": "[encoded data removed]",
      "text/plain": [
       "<Figure size 432x288 with 1 Axes>"
      ]
     },
     "metadata": {
      "needs_background": "light"
     },
     "output_type": "display_data"
    }
   ],
   "source": [
    "#Checking number of hours_per_week\n",
    "df_income['hours_per_week'].hist()\n",
    "plt.xlabel('hours per week')\n",
    "plt.ylabel('Count')\n",
    "plt.title('People doing number of hours_per_week')\n",
    "plt.show()"
   ]
  },
  {
   "cell_type": "markdown",
   "id": "701ce829",
   "metadata": {},
   "source": [
    "Observation:\n",
    "    \n",
    "    Approx. 17500 people doing 30 to 40 hours_per_week."
   ]
  },
  {
   "cell_type": "markdown",
   "id": "d8b53bd6",
   "metadata": {},
   "source": [
    "# Bivariate Analysis"
   ]
  },
  {
   "cell_type": "code",
   "execution_count": 37,
   "id": "e982d85e",
   "metadata": {},
   "outputs": [
    {
     "data": {
      "image/png": "[encoded data removed]",
      "text/plain": [
       "<Figure size 432x216 with 2 Axes>"
      ]
     },
     "metadata": {
      "needs_background": "light"
     },
     "output_type": "display_data"
    }
   ],
   "source": [
    "#Exploring age vs Income via FaceGrid\n",
    "facet = sns.FacetGrid(df_income,col='income')\n",
    "facet.map(sns.distplot,'age')\n",
    "plt.show()"
   ]
  },
  {
   "cell_type": "code",
   "execution_count": 38,
   "id": "cb213682",
   "metadata": {},
   "outputs": [
    {
     "data": {
      "image/png": "[encoded data removed]",
      "text/plain": [
       "<Figure size 432x288 with 1 Axes>"
      ]
     },
     "metadata": {
      "needs_background": "light"
     },
     "output_type": "display_data"
    }
   ],
   "source": [
    "#Exploring sex vs income\n",
    "sns.countplot(x='sex',hue='income',data=df_income)\n",
    "plt.title('Salary Count according to Sex')\n",
    "plt.xlabel('0 = <=50K and 1 = >50K')\n",
    "plt.ylabel('Counting of people')\n",
    "plt.show()"
   ]
  },
  {
   "cell_type": "code",
   "execution_count": 39,
   "id": "f3929af7",
   "metadata": {},
   "outputs": [
    {
     "data": {
      "image/png": "[encoded data removed]",
      "text/plain": [
       "<Figure size 360x360 with 1 Axes>"
      ]
     },
     "metadata": {
      "needs_background": "light"
     },
     "output_type": "display_data"
    }
   ],
   "source": [
    "#factor plot of sex vs income\n",
    "sns.factorplot(x='sex',y='income',data=df_income,kind='bar',size=5,palette ='muted',aspect=1)\n",
    "plt.title('Probability of Salary greater than 50K a/c to sex')\n",
    "plt.ylabel('>50K probability')\n",
    "plt.show()"
   ]
  },
  {
   "cell_type": "markdown",
   "id": "47fa264e",
   "metadata": {},
   "source": [
    "Findings:\n",
    "    \n",
    "    Only 30% male and 11% female got salary more than 50K."
   ]
  },
  {
   "cell_type": "code",
   "execution_count": 40,
   "id": "51c81a1c",
   "metadata": {},
   "outputs": [
    {
     "data": {
      "image/png": "[encoded data removed]",
      "text/plain": [
       "<Figure size 1296x576 with 1 Axes>"
      ]
     },
     "metadata": {
      "needs_background": "light"
     },
     "output_type": "display_data"
    },
    {
     "name": "stdout",
     "output_type": "stream",
     "text": [
      "education     income\n",
      "10th          0          871\n",
      "              1           62\n",
      "11th          0         1115\n",
      "              1           60\n",
      "12th          0          400\n",
      "              1           33\n",
      "1st-4th       0          162\n",
      "              1            6\n",
      "5th-6th       0          317\n",
      "              1           16\n",
      "7th-8th       0          606\n",
      "              1           40\n",
      "9th           0          487\n",
      "              1           27\n",
      "Assoc-acdm    0          802\n",
      "              1          265\n",
      "Assoc-voc     0         1021\n",
      "              1          361\n",
      "Bachelors     0         3133\n",
      "              1         2221\n",
      "Doctorate     1          306\n",
      "              0          107\n",
      "HS-grad       0         8826\n",
      "              1         1675\n",
      "Masters       1          959\n",
      "              0          764\n",
      "Preschool     0           51\n",
      "Prof-school   1          423\n",
      "              0          153\n",
      "Some-college  0         5904\n",
      "              1         1387\n",
      "Name: income, dtype: int64\n"
     ]
    }
   ],
   "source": [
    "#education vs income\n",
    "plt.subplots(figsize=(18,8))\n",
    "sns.countplot(x='education',hue='income',data=df_income)\n",
    "plt.title('Salary Count according to education')\n",
    "plt.xlabel('0= <= 50K and 1=>50K')\n",
    "plt.ylabel('Counting of people')\n",
    "plt.show()\n",
    "\n",
    "print(df_income.groupby('education')['income'].value_counts())"
   ]
  },
  {
   "cell_type": "code",
   "execution_count": 41,
   "id": "75c7b666",
   "metadata": {},
   "outputs": [
    {
     "data": {
      "image/png": "[encoded data removed]",
      "text/plain": [
       "<Figure size 1080x360 with 1 Axes>"
      ]
     },
     "metadata": {
      "needs_background": "light"
     },
     "output_type": "display_data"
    }
   ],
   "source": [
    "#Factorplot of Education vs Income\n",
    "sns.factorplot(x='education',y='income',data=df_income,kind='bar',size=5,palette='muted',aspect=3)\n",
    "plt.title('Probability of Salary greater than 50K a/c to education')\n",
    "plt.ylabel('>50K probability')\n",
    "plt.show()"
   ]
  },
  {
   "cell_type": "markdown",
   "id": "6e20caa8",
   "metadata": {},
   "source": [
    "Findings:\n",
    "    \n",
    "    Approximately 75% Doctorate and prof-school professional got salary more than 50K."
   ]
  },
  {
   "cell_type": "code",
   "execution_count": 42,
   "id": "6352cb03",
   "metadata": {},
   "outputs": [
    {
     "data": {
      "image/png": "[encoded data removed]",
      "text/plain": [
       "<Figure size 1296x576 with 1 Axes>"
      ]
     },
     "metadata": {
      "needs_background": "light"
     },
     "output_type": "display_data"
    },
    {
     "name": "stdout",
     "output_type": "stream",
     "text": [
      "education_num  income\n",
      "1              0           51\n",
      "2              0          162\n",
      "               1            6\n",
      "3              0          317\n",
      "               1           16\n",
      "4              0          606\n",
      "               1           40\n",
      "5              0          487\n",
      "               1           27\n",
      "6              0          871\n",
      "               1           62\n",
      "7              0         1115\n",
      "               1           60\n",
      "8              0          400\n",
      "               1           33\n",
      "9              0         8826\n",
      "               1         1675\n",
      "10             0         5904\n",
      "               1         1387\n",
      "11             0         1021\n",
      "               1          361\n",
      "12             0          802\n",
      "               1          265\n",
      "13             0         3133\n",
      "               1         2221\n",
      "14             1          959\n",
      "               0          764\n",
      "15             1          423\n",
      "               0          153\n",
      "16             1          306\n",
      "               0          107\n",
      "Name: income, dtype: int64\n"
     ]
    }
   ],
   "source": [
    "#Eduction_Num vs Income\n",
    "plt.subplots(figsize=(18,8))\n",
    "sns.countplot(x='education_num',hue='income',data=df_income)\n",
    "plt.title('Salary Count according to education_num')\n",
    "plt.xlabel('0= <=50K and 1=>50K')\n",
    "plt.ylabel('counting of people')\n",
    "plt.show()\n",
    "\n",
    "print(df_income.groupby('education_num')['income'].value_counts())"
   ]
  },
  {
   "cell_type": "code",
   "execution_count": 43,
   "id": "c1f83234",
   "metadata": {},
   "outputs": [
    {
     "data": {
      "image/png": "[encoded data removed]",
      "text/plain": [
       "<Figure size 1080x360 with 1 Axes>"
      ]
     },
     "metadata": {
      "needs_background": "light"
     },
     "output_type": "display_data"
    }
   ],
   "source": [
    "#Factorplot for education and income\n",
    "sns.factorplot(x='education_num',y='income',data=df_income,kind='bar',size=5,palette='muted',aspect=3)\n",
    "plt.title('Probability of Salary greater than 50K a/c to education_num')\n",
    "plt.ylabel('>50K probability')\n",
    "plt.show()"
   ]
  },
  {
   "cell_type": "code",
   "execution_count": 44,
   "id": "49c819ca",
   "metadata": {},
   "outputs": [
    {
     "data": {
      "image/png": "[encoded data removed]",
      "text/plain": [
       "<Figure size 864x576 with 1 Axes>"
      ]
     },
     "metadata": {
      "needs_background": "light"
     },
     "output_type": "display_data"
    },
    {
     "name": "stdout",
     "output_type": "stream",
     "text": [
      "relationship    income\n",
      "Husband         0         7275\n",
      "                1         5918\n",
      "Not-in-family   0         7448\n",
      "                1          856\n",
      "Other-relative  0          944\n",
      "                1           37\n",
      "Own-child       0         5001\n",
      "                1           67\n",
      "Unmarried       0         3228\n",
      "                1          218\n",
      "Wife            0          823\n",
      "                1          745\n",
      "Name: income, dtype: int64\n"
     ]
    }
   ],
   "source": [
    "#Relationship vs Income\n",
    "plt.subplots(figsize=(12,8))\n",
    "sns.countplot(x='relationship',hue='income',data=df_income)\n",
    "plt.title('Salary Count according to relationship')\n",
    "plt.xlabel('0= <=50K and 1=>50K')\n",
    "plt.ylabel('Counting of people')\n",
    "plt.show()\n",
    "\n",
    "print(df_income.groupby('relationship')['income'].value_counts())"
   ]
  },
  {
   "cell_type": "code",
   "execution_count": 45,
   "id": "13a9076b",
   "metadata": {},
   "outputs": [
    {
     "data": {
      "image/png": "[encoded data removed]",
      "text/plain": [
       "<Figure size 720x360 with 1 Axes>"
      ]
     },
     "metadata": {
      "needs_background": "light"
     },
     "output_type": "display_data"
    }
   ],
   "source": [
    "sns.factorplot(x='relationship',y='income',data=df_income,kind='bar',size=5,palette='muted',aspect=2)\n",
    "plt.title('Probabililty of Salary greater than 50K a/c to Relationship')\n",
    "plt.ylabel('>50K probability')\n",
    "plt.show()"
   ]
  },
  {
   "cell_type": "code",
   "execution_count": 46,
   "id": "faa9736b",
   "metadata": {},
   "outputs": [
    {
     "data": {
      "image/png": "[encoded data removed]",
      "text/plain": [
       "<Figure size 864x576 with 1 Axes>"
      ]
     },
     "metadata": {
      "needs_background": "light"
     },
     "output_type": "display_data"
    },
    {
     "name": "stdout",
     "output_type": "stream",
     "text": [
      "workclass         income\n",
      "Federal-gov       0           589\n",
      "                  1           371\n",
      "Local-gov         0          1476\n",
      "                  1           617\n",
      "Never-worked      0             7\n",
      "Private           0         19378\n",
      "                  1          5154\n",
      "Self-emp-inc      1           622\n",
      "                  0           494\n",
      "Self-emp-not-inc  0          1817\n",
      "                  1           724\n",
      "State-gov         0           944\n",
      "                  1           353\n",
      "Without-pay       0            14\n",
      "Name: income, dtype: int64\n"
     ]
    }
   ],
   "source": [
    "#workclass vs Income\n",
    "plt.subplots(figsize=(12,8))\n",
    "sns.countplot(x='workclass',hue='income',data=df_income)\n",
    "plt.title('Salary conut according to workclass')\n",
    "plt.xlabel('0=<=50K and 1=>50K')\n",
    "plt.ylabel('Counting of People')\n",
    "plt.show()\n",
    "\n",
    "print(df_income.groupby('workclass')['income'].value_counts())"
   ]
  },
  {
   "cell_type": "markdown",
   "id": "fcf8f193",
   "metadata": {},
   "source": [
    "# Checking skewness"
   ]
  },
  {
   "cell_type": "code",
   "execution_count": 47,
   "id": "e9f8ef85",
   "metadata": {},
   "outputs": [
    {
     "data": {
      "text/plain": [
       "age                0.558738\n",
       "fnlwgt             1.446972\n",
       "education_num     -0.311630\n",
       "capital_gain      11.953690\n",
       "capital_loss       4.594549\n",
       "hours_per_week     0.227636\n",
       "income             1.212383\n",
       "dtype: float64"
      ]
     },
     "execution_count": 47,
     "metadata": {},
     "output_type": "execute_result"
    }
   ],
   "source": [
    "#checking the skewness\n",
    "df_income.skew()"
   ]
  },
  {
   "cell_type": "code",
   "execution_count": 48,
   "id": "7bc40a3f",
   "metadata": {},
   "outputs": [],
   "source": [
    "#Treating skewness via square root method and cube root method.\n",
    "df_income.skew()\n",
    "for col in df_income.skew().index:\n",
    "    if col in df_income.describe().columns:\n",
    "        if df_income[col].skew()>0.55:\n",
    "            df_income[col]=np.sqrt(df_income[col])\n",
    "        if df_income[col].skew()<0.55:\n",
    "            df_income[col]=np.cbrt(df_income[col])"
   ]
  },
  {
   "cell_type": "code",
   "execution_count": 49,
   "id": "3285b83e",
   "metadata": {},
   "outputs": [
    {
     "data": {
      "text/plain": [
       "age              -0.021391\n",
       "fnlwgt           -0.506219\n",
       "education_num    -1.330790\n",
       "capital_gain      5.894949\n",
       "capital_loss      4.376279\n",
       "hours_per_week   -1.451275\n",
       "income            1.212383\n",
       "dtype: float64"
      ]
     },
     "execution_count": 49,
     "metadata": {},
     "output_type": "execute_result"
    }
   ],
   "source": [
    "#Agin checking the skewness.\n",
    "df_income.skew()"
   ]
  },
  {
   "cell_type": "markdown",
   "id": "2125fe5e",
   "metadata": {},
   "source": [
    "# Converting the categorical data into numeric variables"
   ]
  },
  {
   "cell_type": "code",
   "execution_count": 52,
   "id": "a74e633a",
   "metadata": {},
   "outputs": [],
   "source": [
    "#Transform Non numeric columns into Numeric columns.\n",
    "from sklearn import preprocessing \n",
    "\n",
    "le = preprocessing.LabelEncoder()\n",
    "\n",
    "for column in df_income.columns:\n",
    "    if df_income[column].dtype==np.number:\n",
    "        continue\n",
    "    df_income[column]=le.fit_transform(df_income[column]) \n",
    "    \n",
    "    "
   ]
  },
  {
   "cell_type": "code",
   "execution_count": 53,
   "id": "2192b778",
   "metadata": {},
   "outputs": [
    {
     "data": {
      "text/html": [
       "<div>\n",
       "<style scoped>\n",
       "    .dataframe tbody tr th:only-of-type {\n",
       "        vertical-align: middle;\n",
       "    }\n",
       "\n",
       "    .dataframe tbody tr th {\n",
       "        vertical-align: top;\n",
       "    }\n",
       "\n",
       "    .dataframe thead th {\n",
       "        text-align: right;\n",
       "    }\n",
       "</style>\n",
       "<table border=\"1\" class=\"dataframe\">\n",
       "  <thead>\n",
       "    <tr style=\"text-align: right;\">\n",
       "      <th></th>\n",
       "      <th>age</th>\n",
       "      <th>workclass</th>\n",
       "      <th>fnlwgt</th>\n",
       "      <th>education</th>\n",
       "      <th>education_num</th>\n",
       "      <th>marital_status</th>\n",
       "      <th>occupation</th>\n",
       "      <th>relationship</th>\n",
       "      <th>race</th>\n",
       "      <th>sex</th>\n",
       "      <th>capital_gain</th>\n",
       "      <th>capital_loss</th>\n",
       "      <th>hours_per_week</th>\n",
       "      <th>native_country</th>\n",
       "      <th>income</th>\n",
       "    </tr>\n",
       "  </thead>\n",
       "  <tbody>\n",
       "    <tr>\n",
       "      <th>0</th>\n",
       "      <td>1.919383</td>\n",
       "      <td>5</td>\n",
       "      <td>6.608716</td>\n",
       "      <td>9</td>\n",
       "      <td>2.351335</td>\n",
       "      <td>2</td>\n",
       "      <td>3</td>\n",
       "      <td>0</td>\n",
       "      <td>4</td>\n",
       "      <td>1</td>\n",
       "      <td>0.0</td>\n",
       "      <td>0.0</td>\n",
       "      <td>2.351335</td>\n",
       "      <td>38</td>\n",
       "      <td>0.0</td>\n",
       "    </tr>\n",
       "    <tr>\n",
       "      <th>1</th>\n",
       "      <td>1.833569</td>\n",
       "      <td>3</td>\n",
       "      <td>7.743849</td>\n",
       "      <td>11</td>\n",
       "      <td>2.080084</td>\n",
       "      <td>0</td>\n",
       "      <td>5</td>\n",
       "      <td>1</td>\n",
       "      <td>4</td>\n",
       "      <td>1</td>\n",
       "      <td>0.0</td>\n",
       "      <td>0.0</td>\n",
       "      <td>3.419952</td>\n",
       "      <td>38</td>\n",
       "      <td>0.0</td>\n",
       "    </tr>\n",
       "    <tr>\n",
       "      <th>2</th>\n",
       "      <td>1.938114</td>\n",
       "      <td>3</td>\n",
       "      <td>7.854020</td>\n",
       "      <td>1</td>\n",
       "      <td>1.912931</td>\n",
       "      <td>2</td>\n",
       "      <td>5</td>\n",
       "      <td>0</td>\n",
       "      <td>2</td>\n",
       "      <td>1</td>\n",
       "      <td>0.0</td>\n",
       "      <td>0.0</td>\n",
       "      <td>3.419952</td>\n",
       "      <td>38</td>\n",
       "      <td>0.0</td>\n",
       "    </tr>\n",
       "    <tr>\n",
       "      <th>3</th>\n",
       "      <td>1.742581</td>\n",
       "      <td>3</td>\n",
       "      <td>8.347831</td>\n",
       "      <td>9</td>\n",
       "      <td>2.351335</td>\n",
       "      <td>2</td>\n",
       "      <td>9</td>\n",
       "      <td>5</td>\n",
       "      <td>2</td>\n",
       "      <td>0</td>\n",
       "      <td>0.0</td>\n",
       "      <td>0.0</td>\n",
       "      <td>3.419952</td>\n",
       "      <td>4</td>\n",
       "      <td>0.0</td>\n",
       "    </tr>\n",
       "    <tr>\n",
       "      <th>4</th>\n",
       "      <td>1.825437</td>\n",
       "      <td>3</td>\n",
       "      <td>8.110256</td>\n",
       "      <td>12</td>\n",
       "      <td>2.410142</td>\n",
       "      <td>2</td>\n",
       "      <td>3</td>\n",
       "      <td>5</td>\n",
       "      <td>4</td>\n",
       "      <td>0</td>\n",
       "      <td>0.0</td>\n",
       "      <td>0.0</td>\n",
       "      <td>3.419952</td>\n",
       "      <td>38</td>\n",
       "      <td>0.0</td>\n",
       "    </tr>\n",
       "  </tbody>\n",
       "</table>\n",
       "</div>"
      ],
      "text/plain": [
       "        age  workclass    fnlwgt  education  education_num  marital_status  \\\n",
       "0  1.919383          5  6.608716          9       2.351335               2   \n",
       "1  1.833569          3  7.743849         11       2.080084               0   \n",
       "2  1.938114          3  7.854020          1       1.912931               2   \n",
       "3  1.742581          3  8.347831          9       2.351335               2   \n",
       "4  1.825437          3  8.110256         12       2.410142               2   \n",
       "\n",
       "   occupation  relationship  race  sex  capital_gain  capital_loss  \\\n",
       "0           3             0     4    1           0.0           0.0   \n",
       "1           5             1     4    1           0.0           0.0   \n",
       "2           5             0     2    1           0.0           0.0   \n",
       "3           9             5     2    0           0.0           0.0   \n",
       "4           3             5     4    0           0.0           0.0   \n",
       "\n",
       "   hours_per_week  native_country  income  \n",
       "0        2.351335              38     0.0  \n",
       "1        3.419952              38     0.0  \n",
       "2        3.419952              38     0.0  \n",
       "3        3.419952               4     0.0  \n",
       "4        3.419952              38     0.0  "
      ]
     },
     "execution_count": 53,
     "metadata": {},
     "output_type": "execute_result"
    }
   ],
   "source": [
    "df_income.head()"
   ]
  },
  {
   "cell_type": "markdown",
   "id": "a92d5f92",
   "metadata": {},
   "source": [
    "# Ploting Outliers"
   ]
  },
  {
   "cell_type": "code",
   "execution_count": 54,
   "id": "4fa5253a",
   "metadata": {},
   "outputs": [
    {
     "data": {
      "text/plain": [
       "<AxesSubplot:>"
      ]
     },
     "execution_count": 54,
     "metadata": {},
     "output_type": "execute_result"
    },
    {
     "data": {
      "image/png": "[encoded data removed]",
      "text/plain": [
       "<Figure size 432x288 with 1 Axes>"
      ]
     },
     "metadata": {
      "needs_background": "light"
     },
     "output_type": "display_data"
    }
   ],
   "source": [
    "df_income['age'].plot.box()"
   ]
  },
  {
   "cell_type": "code",
   "execution_count": 55,
   "id": "4cfe1616",
   "metadata": {},
   "outputs": [
    {
     "data": {
      "text/plain": [
       "<AxesSubplot:>"
      ]
     },
     "execution_count": 55,
     "metadata": {},
     "output_type": "execute_result"
    },
    {
     "data": {
      "image/png": "[encoded data removed]",
      "text/plain": [
       "<Figure size 432x288 with 1 Axes>"
      ]
     },
     "metadata": {
      "needs_background": "light"
     },
     "output_type": "display_data"
    }
   ],
   "source": [
    "df_income['hours_per_week'].plot.box()"
   ]
  },
  {
   "cell_type": "code",
   "execution_count": 56,
   "id": "6c4eeb3a",
   "metadata": {},
   "outputs": [
    {
     "data": {
      "text/plain": [
       "<AxesSubplot:>"
      ]
     },
     "execution_count": 56,
     "metadata": {},
     "output_type": "execute_result"
    },
    {
     "data": {
      "image/png": "[encoded data removed]",
      "text/plain": [
       "<Figure size 432x288 with 1 Axes>"
      ]
     },
     "metadata": {
      "needs_background": "light"
     },
     "output_type": "display_data"
    }
   ],
   "source": [
    "df['fnlwgt'].plot.box()"
   ]
  },
  {
   "cell_type": "markdown",
   "id": "664a2d76",
   "metadata": {},
   "source": [
    "Observation:\n",
    "    \n",
    "    There are some outlier are present in our data which we have to remove it."
   ]
  },
  {
   "cell_type": "markdown",
   "id": "849dd825",
   "metadata": {},
   "source": [
    "# Removing Outliers"
   ]
  },
  {
   "cell_type": "code",
   "execution_count": 57,
   "id": "4b10cb03",
   "metadata": {},
   "outputs": [
    {
     "data": {
      "text/plain": [
       "array([[0.89173505, 1.72133587, 1.06991994, ..., 2.59368713, 0.26137428,\n",
       "        0.5632099 ],\n",
       "       [0.10461133, 0.08522344, 0.44809231, ..., 0.07877413, 0.26137428,\n",
       "        0.5632099 ],\n",
       "       [1.06354264, 0.08522344, 0.59542287, ..., 0.07877413, 0.26137428,\n",
       "        0.5632099 ],\n",
       "       ...,\n",
       "       [1.33266535, 0.08522344, 0.1392861 , ..., 0.07877413, 0.26137428,\n",
       "        0.5632099 ],\n",
       "       [1.35967324, 0.08522344, 0.3315621 , ..., 1.68566782, 0.26137428,\n",
       "        0.5632099 ],\n",
       "       [1.00719481, 0.81805622, 0.95923104, ..., 0.07877413, 0.26137428,\n",
       "        1.77553698]])"
      ]
     },
     "execution_count": 57,
     "metadata": {},
     "output_type": "execute_result"
    }
   ],
   "source": [
    "from scipy.stats import zscore\n",
    "z=np.abs(zscore(df_income))\n",
    "z"
   ]
  },
  {
   "cell_type": "code",
   "execution_count": 58,
   "id": "41affc92",
   "metadata": {},
   "outputs": [
    {
     "name": "stdout",
     "output_type": "stream",
     "text": [
      "(array([    3,     7,    10, ..., 32550, 32552, 32559], dtype=int64), array([13, 10,  8, ...,  8,  8, 10], dtype=int64))\n"
     ]
    }
   ],
   "source": [
    "threshold=3\n",
    "print(np.where(z>3))"
   ]
  },
  {
   "cell_type": "code",
   "execution_count": 59,
   "id": "f871c7b5",
   "metadata": {},
   "outputs": [],
   "source": [
    "new_income=df_income[(z<3).all(axis=1)]"
   ]
  },
  {
   "cell_type": "code",
   "execution_count": 60,
   "id": "cab84df0",
   "metadata": {},
   "outputs": [
    {
     "name": "stdout",
     "output_type": "stream",
     "text": [
      "(32560, 15) \t\t (27065, 15)\n"
     ]
    }
   ],
   "source": [
    "#Checking the shape\n",
    "print(df_income.shape,'\\t\\t',new_income.shape)"
   ]
  },
  {
   "cell_type": "code",
   "execution_count": 62,
   "id": "9ab9484f",
   "metadata": {},
   "outputs": [
    {
     "data": {
      "text/plain": [
       "(27065, 15)"
      ]
     },
     "execution_count": 62,
     "metadata": {},
     "output_type": "execute_result"
    }
   ],
   "source": [
    "df_income=new_income\n",
    "df_income.shape"
   ]
  },
  {
   "cell_type": "markdown",
   "id": "b8960bc5",
   "metadata": {},
   "source": [
    "# Model Training"
   ]
  },
  {
   "cell_type": "code",
   "execution_count": 63,
   "id": "07b56391",
   "metadata": {},
   "outputs": [
    {
     "data": {
      "text/html": [
       "<div>\n",
       "<style scoped>\n",
       "    .dataframe tbody tr th:only-of-type {\n",
       "        vertical-align: middle;\n",
       "    }\n",
       "\n",
       "    .dataframe tbody tr th {\n",
       "        vertical-align: top;\n",
       "    }\n",
       "\n",
       "    .dataframe thead th {\n",
       "        text-align: right;\n",
       "    }\n",
       "</style>\n",
       "<table border=\"1\" class=\"dataframe\">\n",
       "  <thead>\n",
       "    <tr style=\"text-align: right;\">\n",
       "      <th></th>\n",
       "      <th>age</th>\n",
       "      <th>workclass</th>\n",
       "      <th>fnlwgt</th>\n",
       "      <th>education</th>\n",
       "      <th>education_num</th>\n",
       "      <th>marital_status</th>\n",
       "      <th>occupation</th>\n",
       "      <th>relationship</th>\n",
       "      <th>race</th>\n",
       "      <th>sex</th>\n",
       "      <th>capital_gain</th>\n",
       "      <th>capital_loss</th>\n",
       "      <th>hours_per_week</th>\n",
       "      <th>native_country</th>\n",
       "      <th>income</th>\n",
       "    </tr>\n",
       "  </thead>\n",
       "  <tbody>\n",
       "    <tr>\n",
       "      <th>0</th>\n",
       "      <td>1.919383</td>\n",
       "      <td>5</td>\n",
       "      <td>6.608716</td>\n",
       "      <td>9</td>\n",
       "      <td>2.351335</td>\n",
       "      <td>2</td>\n",
       "      <td>3</td>\n",
       "      <td>0</td>\n",
       "      <td>4</td>\n",
       "      <td>1</td>\n",
       "      <td>0.0</td>\n",
       "      <td>0.0</td>\n",
       "      <td>2.351335</td>\n",
       "      <td>38</td>\n",
       "      <td>0.0</td>\n",
       "    </tr>\n",
       "    <tr>\n",
       "      <th>1</th>\n",
       "      <td>1.833569</td>\n",
       "      <td>3</td>\n",
       "      <td>7.743849</td>\n",
       "      <td>11</td>\n",
       "      <td>2.080084</td>\n",
       "      <td>0</td>\n",
       "      <td>5</td>\n",
       "      <td>1</td>\n",
       "      <td>4</td>\n",
       "      <td>1</td>\n",
       "      <td>0.0</td>\n",
       "      <td>0.0</td>\n",
       "      <td>3.419952</td>\n",
       "      <td>38</td>\n",
       "      <td>0.0</td>\n",
       "    </tr>\n",
       "    <tr>\n",
       "      <th>2</th>\n",
       "      <td>1.938114</td>\n",
       "      <td>3</td>\n",
       "      <td>7.854020</td>\n",
       "      <td>1</td>\n",
       "      <td>1.912931</td>\n",
       "      <td>2</td>\n",
       "      <td>5</td>\n",
       "      <td>0</td>\n",
       "      <td>2</td>\n",
       "      <td>1</td>\n",
       "      <td>0.0</td>\n",
       "      <td>0.0</td>\n",
       "      <td>3.419952</td>\n",
       "      <td>38</td>\n",
       "      <td>0.0</td>\n",
       "    </tr>\n",
       "    <tr>\n",
       "      <th>4</th>\n",
       "      <td>1.825437</td>\n",
       "      <td>3</td>\n",
       "      <td>8.110256</td>\n",
       "      <td>12</td>\n",
       "      <td>2.410142</td>\n",
       "      <td>2</td>\n",
       "      <td>3</td>\n",
       "      <td>5</td>\n",
       "      <td>4</td>\n",
       "      <td>0</td>\n",
       "      <td>0.0</td>\n",
       "      <td>0.0</td>\n",
       "      <td>3.419952</td>\n",
       "      <td>38</td>\n",
       "      <td>0.0</td>\n",
       "    </tr>\n",
       "    <tr>\n",
       "      <th>5</th>\n",
       "      <td>1.912931</td>\n",
       "      <td>3</td>\n",
       "      <td>7.369498</td>\n",
       "      <td>6</td>\n",
       "      <td>1.709976</td>\n",
       "      <td>3</td>\n",
       "      <td>7</td>\n",
       "      <td>1</td>\n",
       "      <td>2</td>\n",
       "      <td>0</td>\n",
       "      <td>0.0</td>\n",
       "      <td>0.0</td>\n",
       "      <td>2.519842</td>\n",
       "      <td>22</td>\n",
       "      <td>0.0</td>\n",
       "    </tr>\n",
       "  </tbody>\n",
       "</table>\n",
       "</div>"
      ],
      "text/plain": [
       "        age  workclass    fnlwgt  education  education_num  marital_status  \\\n",
       "0  1.919383          5  6.608716          9       2.351335               2   \n",
       "1  1.833569          3  7.743849         11       2.080084               0   \n",
       "2  1.938114          3  7.854020          1       1.912931               2   \n",
       "4  1.825437          3  8.110256         12       2.410142               2   \n",
       "5  1.912931          3  7.369498          6       1.709976               3   \n",
       "\n",
       "   occupation  relationship  race  sex  capital_gain  capital_loss  \\\n",
       "0           3             0     4    1           0.0           0.0   \n",
       "1           5             1     4    1           0.0           0.0   \n",
       "2           5             0     2    1           0.0           0.0   \n",
       "4           3             5     4    0           0.0           0.0   \n",
       "5           7             1     2    0           0.0           0.0   \n",
       "\n",
       "   hours_per_week  native_country  income  \n",
       "0        2.351335              38     0.0  \n",
       "1        3.419952              38     0.0  \n",
       "2        3.419952              38     0.0  \n",
       "4        3.419952              38     0.0  \n",
       "5        2.519842              22     0.0  "
      ]
     },
     "execution_count": 63,
     "metadata": {},
     "output_type": "execute_result"
    }
   ],
   "source": [
    "df_income.head()"
   ]
  },
  {
   "cell_type": "code",
   "execution_count": 64,
   "id": "6322d305",
   "metadata": {},
   "outputs": [
    {
     "data": {
      "text/html": [
       "<div>\n",
       "<style scoped>\n",
       "    .dataframe tbody tr th:only-of-type {\n",
       "        vertical-align: middle;\n",
       "    }\n",
       "\n",
       "    .dataframe tbody tr th {\n",
       "        vertical-align: top;\n",
       "    }\n",
       "\n",
       "    .dataframe thead th {\n",
       "        text-align: right;\n",
       "    }\n",
       "</style>\n",
       "<table border=\"1\" class=\"dataframe\">\n",
       "  <thead>\n",
       "    <tr style=\"text-align: right;\">\n",
       "      <th></th>\n",
       "      <th>age</th>\n",
       "      <th>workclass</th>\n",
       "      <th>fnlwgt</th>\n",
       "      <th>education</th>\n",
       "      <th>education_num</th>\n",
       "      <th>marital_status</th>\n",
       "      <th>occupation</th>\n",
       "      <th>relationship</th>\n",
       "      <th>race</th>\n",
       "      <th>sex</th>\n",
       "      <th>capital_gain</th>\n",
       "      <th>capital_loss</th>\n",
       "      <th>hours_per_week</th>\n",
       "      <th>native_country</th>\n",
       "    </tr>\n",
       "  </thead>\n",
       "  <tbody>\n",
       "    <tr>\n",
       "      <th>0</th>\n",
       "      <td>1.919383</td>\n",
       "      <td>5</td>\n",
       "      <td>6.608716</td>\n",
       "      <td>9</td>\n",
       "      <td>2.351335</td>\n",
       "      <td>2</td>\n",
       "      <td>3</td>\n",
       "      <td>0</td>\n",
       "      <td>4</td>\n",
       "      <td>1</td>\n",
       "      <td>0.0</td>\n",
       "      <td>0.0</td>\n",
       "      <td>2.351335</td>\n",
       "      <td>38</td>\n",
       "    </tr>\n",
       "    <tr>\n",
       "      <th>1</th>\n",
       "      <td>1.833569</td>\n",
       "      <td>3</td>\n",
       "      <td>7.743849</td>\n",
       "      <td>11</td>\n",
       "      <td>2.080084</td>\n",
       "      <td>0</td>\n",
       "      <td>5</td>\n",
       "      <td>1</td>\n",
       "      <td>4</td>\n",
       "      <td>1</td>\n",
       "      <td>0.0</td>\n",
       "      <td>0.0</td>\n",
       "      <td>3.419952</td>\n",
       "      <td>38</td>\n",
       "    </tr>\n",
       "    <tr>\n",
       "      <th>2</th>\n",
       "      <td>1.938114</td>\n",
       "      <td>3</td>\n",
       "      <td>7.854020</td>\n",
       "      <td>1</td>\n",
       "      <td>1.912931</td>\n",
       "      <td>2</td>\n",
       "      <td>5</td>\n",
       "      <td>0</td>\n",
       "      <td>2</td>\n",
       "      <td>1</td>\n",
       "      <td>0.0</td>\n",
       "      <td>0.0</td>\n",
       "      <td>3.419952</td>\n",
       "      <td>38</td>\n",
       "    </tr>\n",
       "    <tr>\n",
       "      <th>4</th>\n",
       "      <td>1.825437</td>\n",
       "      <td>3</td>\n",
       "      <td>8.110256</td>\n",
       "      <td>12</td>\n",
       "      <td>2.410142</td>\n",
       "      <td>2</td>\n",
       "      <td>3</td>\n",
       "      <td>5</td>\n",
       "      <td>4</td>\n",
       "      <td>0</td>\n",
       "      <td>0.0</td>\n",
       "      <td>0.0</td>\n",
       "      <td>3.419952</td>\n",
       "      <td>38</td>\n",
       "    </tr>\n",
       "    <tr>\n",
       "      <th>5</th>\n",
       "      <td>1.912931</td>\n",
       "      <td>3</td>\n",
       "      <td>7.369498</td>\n",
       "      <td>6</td>\n",
       "      <td>1.709976</td>\n",
       "      <td>3</td>\n",
       "      <td>7</td>\n",
       "      <td>1</td>\n",
       "      <td>2</td>\n",
       "      <td>0</td>\n",
       "      <td>0.0</td>\n",
       "      <td>0.0</td>\n",
       "      <td>2.519842</td>\n",
       "      <td>22</td>\n",
       "    </tr>\n",
       "  </tbody>\n",
       "</table>\n",
       "</div>"
      ],
      "text/plain": [
       "        age  workclass    fnlwgt  education  education_num  marital_status  \\\n",
       "0  1.919383          5  6.608716          9       2.351335               2   \n",
       "1  1.833569          3  7.743849         11       2.080084               0   \n",
       "2  1.938114          3  7.854020          1       1.912931               2   \n",
       "4  1.825437          3  8.110256         12       2.410142               2   \n",
       "5  1.912931          3  7.369498          6       1.709976               3   \n",
       "\n",
       "   occupation  relationship  race  sex  capital_gain  capital_loss  \\\n",
       "0           3             0     4    1           0.0           0.0   \n",
       "1           5             1     4    1           0.0           0.0   \n",
       "2           5             0     2    1           0.0           0.0   \n",
       "4           3             5     4    0           0.0           0.0   \n",
       "5           7             1     2    0           0.0           0.0   \n",
       "\n",
       "   hours_per_week  native_country  \n",
       "0        2.351335              38  \n",
       "1        3.419952              38  \n",
       "2        3.419952              38  \n",
       "4        3.419952              38  \n",
       "5        2.519842              22  "
      ]
     },
     "execution_count": 64,
     "metadata": {},
     "output_type": "execute_result"
    }
   ],
   "source": [
    "#Splitting the data into and output variable.\n",
    "x=df_income.drop(columns=['income'],axis=1)\n",
    "x.head()"
   ]
  },
  {
   "cell_type": "code",
   "execution_count": 65,
   "id": "4bba55b1",
   "metadata": {},
   "outputs": [
    {
     "data": {
      "text/plain": [
       "0    0.0\n",
       "1    0.0\n",
       "2    0.0\n",
       "4    0.0\n",
       "5    0.0\n",
       "Name: income, dtype: float64"
      ]
     },
     "execution_count": 65,
     "metadata": {},
     "output_type": "execute_result"
    }
   ],
   "source": [
    "y=df_income['income']\n",
    "y.head()"
   ]
  },
  {
   "cell_type": "code",
   "execution_count": 66,
   "id": "4a0659ca",
   "metadata": {},
   "outputs": [
    {
     "name": "stdout",
     "output_type": "stream",
     "text": [
      "(27065, 14) \t\t (27065,)\n"
     ]
    }
   ],
   "source": [
    "#Checking the shape of input and target variable\n",
    "print(x.shape,'\\t\\t',y.shape)"
   ]
  },
  {
   "cell_type": "markdown",
   "id": "8db26e72",
   "metadata": {},
   "source": [
    "# Scaling in input variables"
   ]
  },
  {
   "cell_type": "code",
   "execution_count": 67,
   "id": "455f33ff",
   "metadata": {},
   "outputs": [],
   "source": [
    "from sklearn.preprocessing import StandardScaler\n",
    "ss=StandardScaler()\n",
    "x=ss.fit_transform(x)"
   ]
  },
  {
   "cell_type": "code",
   "execution_count": 68,
   "id": "f2b75c2b",
   "metadata": {},
   "outputs": [],
   "source": [
    "#Splitting the data into training and testing data\n",
    "\n",
    "from sklearn.model_selection import train_test_split\n",
    "x_train,x_test,y_train,y_test=train_test_split(x,y,test_size=.20,random_state=42,stratify=y)"
   ]
  },
  {
   "cell_type": "code",
   "execution_count": 69,
   "id": "c10fe632",
   "metadata": {},
   "outputs": [
    {
     "name": "stdout",
     "output_type": "stream",
     "text": [
      "(21652, 14) \t\t (5413, 14)\n"
     ]
    }
   ],
   "source": [
    "#Checking the shape\n",
    "print(x_train.shape,'\\t\\t',x_test.shape)"
   ]
  },
  {
   "cell_type": "code",
   "execution_count": 70,
   "id": "66fbcc79",
   "metadata": {},
   "outputs": [
    {
     "name": "stdout",
     "output_type": "stream",
     "text": [
      "(21652,) \t\t (5413,)\n"
     ]
    }
   ],
   "source": [
    "#Checking the shape\n",
    "print(y_train.shape,'\\t\\t',y_test.shape)"
   ]
  },
  {
   "cell_type": "markdown",
   "id": "203f4642",
   "metadata": {},
   "source": [
    "# Importing all the model library"
   ]
  },
  {
   "cell_type": "code",
   "execution_count": 71,
   "id": "1d7700b2",
   "metadata": {},
   "outputs": [],
   "source": [
    "from sklearn.linear_model import LogisticRegression\n",
    "from sklearn.naive_bayes import GaussianNB\n",
    "from sklearn.svm import SVC\n",
    "from sklearn.tree import DecisionTreeClassifier\n",
    "from sklearn.neighbors import KNeighborsClassifier\n",
    "\n",
    "# importing error metrics\n",
    "from sklearn.metrics import accuracy_score,confusion_matrix,classification_report\n",
    "from sklearn.model_selection import GridSearchCV,cross_val_score"
   ]
  },
  {
   "cell_type": "markdown",
   "id": "b32303bb",
   "metadata": {},
   "source": [
    "# Finding the best parameters"
   ]
  },
  {
   "cell_type": "code",
   "execution_count": 73,
   "id": "7e3818e9",
   "metadata": {},
   "outputs": [
    {
     "name": "stdout",
     "output_type": "stream",
     "text": [
      "{'C': 1, 'random_state': 42}\n"
     ]
    }
   ],
   "source": [
    "#using GridSearchCV to find out the best parameter in LogisticRegression\n",
    "parameters={'C':[1,10],'random_state':range(42,100)}\n",
    "lg=LogisticRegression()\n",
    "\n",
    "clf=GridSearchCV(lg,parameters)\n",
    "clf.fit(x,y)\n",
    "print(clf.best_params_)"
   ]
  },
  {
   "cell_type": "code",
   "execution_count": 74,
   "id": "a08134c9",
   "metadata": {},
   "outputs": [
    {
     "name": "stdout",
     "output_type": "stream",
     "text": [
      "{'n_neighbors': 22}\n"
     ]
    }
   ],
   "source": [
    "#Using GridSearchCV to find out the best parameter in KNeighborsclassifier\n",
    "\n",
    "parameters={'n_neighbors':range(22,25)}\n",
    "knn=KNeighborsClassifier()\n",
    "\n",
    "clf=GridSearchCV(knn,parameters)\n",
    "clf.fit(x,y)\n",
    "print(clf.best_params_)"
   ]
  },
  {
   "cell_type": "code",
   "execution_count": 75,
   "id": "af6aba69",
   "metadata": {},
   "outputs": [],
   "source": [
    "#Models with its best parameters\n",
    "\n",
    "LR=LogisticRegression(random_state=42)\n",
    "KNN=KNeighborsClassifier(n_neighbors=24)\n",
    "SVC=SVC()"
   ]
  },
  {
   "cell_type": "code",
   "execution_count": 77,
   "id": "e0c2f2be",
   "metadata": {},
   "outputs": [
    {
     "name": "stdout",
     "output_type": "stream",
     "text": [
      "Accuracy score of LogisticRegression(random_state=42) is:\n",
      "0.8169222242748938\n",
      "[[3997  242]\n",
      " [ 749  425]]\n",
      "              precision    recall  f1-score   support\n",
      "\n",
      "         0.0       0.84      0.94      0.89      4239\n",
      "         1.0       0.64      0.36      0.46      1174\n",
      "\n",
      "    accuracy                           0.82      5413\n",
      "   macro avg       0.74      0.65      0.68      5413\n",
      "weighted avg       0.80      0.82      0.80      5413\n",
      "\n",
      "*******************************************************\n",
      "\n",
      "\n",
      "Accuracy score of GaussianNB() is:\n",
      "0.781821540735267\n",
      "[[3376  863]\n",
      " [ 318  856]]\n",
      "              precision    recall  f1-score   support\n",
      "\n",
      "         0.0       0.91      0.80      0.85      4239\n",
      "         1.0       0.50      0.73      0.59      1174\n",
      "\n",
      "    accuracy                           0.78      5413\n",
      "   macro avg       0.71      0.76      0.72      5413\n",
      "weighted avg       0.82      0.78      0.79      5413\n",
      "\n",
      "*******************************************************\n",
      "\n",
      "\n",
      "Accuracy score of SVC() is:\n",
      "0.8416774431923147\n",
      "[[4016  223]\n",
      " [ 634  540]]\n",
      "              precision    recall  f1-score   support\n",
      "\n",
      "         0.0       0.86      0.95      0.90      4239\n",
      "         1.0       0.71      0.46      0.56      1174\n",
      "\n",
      "    accuracy                           0.84      5413\n",
      "   macro avg       0.79      0.70      0.73      5413\n",
      "weighted avg       0.83      0.84      0.83      5413\n",
      "\n",
      "*******************************************************\n",
      "\n",
      "\n",
      "Accuracy score of DecisionTreeClassifier() is:\n",
      "0.8082394236098281\n",
      "[[3704  535]\n",
      " [ 503  671]]\n",
      "              precision    recall  f1-score   support\n",
      "\n",
      "         0.0       0.88      0.87      0.88      4239\n",
      "         1.0       0.56      0.57      0.56      1174\n",
      "\n",
      "    accuracy                           0.81      5413\n",
      "   macro avg       0.72      0.72      0.72      5413\n",
      "weighted avg       0.81      0.81      0.81      5413\n",
      "\n",
      "*******************************************************\n",
      "\n",
      "\n",
      "Accuracy score of KNeighborsClassifier(n_neighbors=24) is:\n",
      "0.8355810086828007\n",
      "[[3937  302]\n",
      " [ 588  586]]\n",
      "              precision    recall  f1-score   support\n",
      "\n",
      "         0.0       0.87      0.93      0.90      4239\n",
      "         1.0       0.66      0.50      0.57      1174\n",
      "\n",
      "    accuracy                           0.84      5413\n",
      "   macro avg       0.76      0.71      0.73      5413\n",
      "weighted avg       0.82      0.84      0.83      5413\n",
      "\n",
      "*******************************************************\n",
      "\n",
      "\n"
     ]
    }
   ],
   "source": [
    "#All Algorithm by using for loop\n",
    "model=[LR,GaussianNB(),SVC,DecisionTreeClassifier(),KNN]\n",
    "\n",
    "for m in model:\n",
    "    m.fit(x_train,y_train)\n",
    "    m.score(x_train,y_train)\n",
    "    predm=m.predict(x_test)\n",
    "    print('Accuracy score of',m,'is:')\n",
    "    print(accuracy_score(y_test,predm))\n",
    "    print(confusion_matrix(y_test,predm))\n",
    "    print(classification_report(y_test,predm))\n",
    "    print('*******************************************************')\n",
    "    print('\\n')"
   ]
  },
  {
   "cell_type": "markdown",
   "id": "add19728",
   "metadata": {},
   "source": [
    "# Cross validate the models"
   ]
  },
  {
   "cell_type": "code",
   "execution_count": 78,
   "id": "d838dd28",
   "metadata": {},
   "outputs": [
    {
     "name": "stdout",
     "output_type": "stream",
     "text": [
      "Model: LogisticRegression(random_state=42)\n",
      "Score [0.82083487 0.81935722 0.82120429 0.81935722 0.8215737  0.82668145\n",
      " 0.81448633 0.82335551 0.8240946  0.81929047]\n",
      "Mean Score: 0.8210235651404435\n",
      "Standard devivation: 0.00313917677639615\n",
      "$$$$$$$$$$$$$$$$$$$$$$$$$$$$$$$$$$$$$$$$$$$$$$$$$$$$$$$$$$$$$$$$$$\n",
      "\n",
      "\n",
      "Model: GaussianNB()\n",
      "Score [0.76800887 0.77281123 0.78315478 0.7691171  0.75803472 0.77974871\n",
      " 0.77014043 0.77198817 0.78898744 0.7841833 ]\n",
      "Mean Score: 0.7746174749922937\n",
      "Standard devivation: 0.008811078066810071\n",
      "$$$$$$$$$$$$$$$$$$$$$$$$$$$$$$$$$$$$$$$$$$$$$$$$$$$$$$$$$$$$$$$$$$\n",
      "\n",
      "\n",
      "Model: SVC()\n",
      "Score [0.83819727 0.84521611 0.8507573  0.83819727 0.83856668 0.8473762\n",
      " 0.84294161 0.85070214 0.84552846 0.84146341]\n",
      "Mean Score: 0.8438946439536599\n",
      "Standard devivation: 0.00458368262106495\n",
      "$$$$$$$$$$$$$$$$$$$$$$$$$$$$$$$$$$$$$$$$$$$$$$$$$$$$$$$$$$$$$$$$$$\n",
      "\n",
      "\n",
      "Model: DecisionTreeClassifier()\n",
      "Score [0.79128186 0.79756188 0.80199483 0.77650536 0.801256   0.79822616\n",
      " 0.79563932 0.80044346 0.79526977 0.80007391]\n",
      "Mean Score: 0.7958252549916438\n",
      "Standard devivation: 0.007141146872548542\n",
      "$$$$$$$$$$$$$$$$$$$$$$$$$$$$$$$$$$$$$$$$$$$$$$$$$$$$$$$$$$$$$$$$$$\n",
      "\n",
      "\n",
      "Model: KNeighborsClassifier(n_neighbors=24)\n",
      "Score [0.83819727 0.84263022 0.85260436 0.83154784 0.84152198 0.84294161\n",
      " 0.84109387 0.8473762  0.84848485 0.83961567]\n",
      "Mean Score: 0.8426013857478803\n",
      "Standard devivation: 0.00558139282580285\n",
      "$$$$$$$$$$$$$$$$$$$$$$$$$$$$$$$$$$$$$$$$$$$$$$$$$$$$$$$$$$$$$$$$$$\n",
      "\n",
      "\n"
     ]
    }
   ],
   "source": [
    "models=[LR,GaussianNB(),SVC,DecisionTreeClassifier(),KNN]\n",
    "for m in models:\n",
    "    score=cross_val_score(m,x,y,cv=10,scoring='accuracy')\n",
    "    print('Model:',m)\n",
    "    print('Score',score)\n",
    "    print('Mean Score:',score.mean())\n",
    "    print('Standard devivation:',score.std())\n",
    "    print('$$$$$$$$$$$$$$$$$$$$$$$$$$$$$$$$$$$$$$$$$$$$$$$$$$$$$$$$$$$$$$$$$$')\n",
    "    print('\\n')"
   ]
  },
  {
   "cell_type": "markdown",
   "id": "4aa3cb7e",
   "metadata": {},
   "source": [
    "Above all models SVC is giving best score.\n",
    "\n",
    "Now we use some boosting techique to boostup our score.\n",
    "\n",
    "After that we decide that which model is best."
   ]
  },
  {
   "cell_type": "markdown",
   "id": "28631196",
   "metadata": {},
   "source": [
    "# Using Ensemble Technique to boostup our score"
   ]
  },
  {
   "cell_type": "code",
   "execution_count": 80,
   "id": "011604ff",
   "metadata": {},
   "outputs": [],
   "source": [
    "from sklearn.ensemble import RandomForestClassifier\n",
    "from sklearn.ensemble import AdaBoostClassifier\n",
    "from sklearn.ensemble import GradientBoostingClassifier\n",
    "from sklearn.ensemble import BaggingClassifier\n",
    "from sklearn.ensemble import ExtraTreesClassifier"
   ]
  },
  {
   "cell_type": "code",
   "execution_count": 82,
   "id": "f3394693",
   "metadata": {},
   "outputs": [
    {
     "name": "stdout",
     "output_type": "stream",
     "text": [
      "Accuracy score of RandomForestClassifier() is:\n",
      "0.8475891372621467\n",
      "[[3939  300]\n",
      " [ 525  649]]\n",
      "              precision    recall  f1-score   support\n",
      "\n",
      "         0.0       0.88      0.93      0.91      4239\n",
      "         1.0       0.68      0.55      0.61      1174\n",
      "\n",
      "    accuracy                           0.85      5413\n",
      "   macro avg       0.78      0.74      0.76      5413\n",
      "weighted avg       0.84      0.85      0.84      5413\n",
      "\n",
      "@@@@@@@@@@@@@@@@@@@@@@@@@@@@@@@@@@@@@@@@@@@@@@@@@@@@@@@@@@\n",
      "\n",
      "\n",
      "Accuracy score of AdaBoostClassifier() is:\n",
      "0.853870312211343\n",
      "[[4006  233]\n",
      " [ 558  616]]\n",
      "              precision    recall  f1-score   support\n",
      "\n",
      "         0.0       0.88      0.95      0.91      4239\n",
      "         1.0       0.73      0.52      0.61      1174\n",
      "\n",
      "    accuracy                           0.85      5413\n",
      "   macro avg       0.80      0.73      0.76      5413\n",
      "weighted avg       0.84      0.85      0.84      5413\n",
      "\n",
      "@@@@@@@@@@@@@@@@@@@@@@@@@@@@@@@@@@@@@@@@@@@@@@@@@@@@@@@@@@\n",
      "\n",
      "\n",
      "Accuracy score of GradientBoostingClassifier() is:\n",
      "0.8581193423240348\n",
      "[[4020  219]\n",
      " [ 549  625]]\n",
      "              precision    recall  f1-score   support\n",
      "\n",
      "         0.0       0.88      0.95      0.91      4239\n",
      "         1.0       0.74      0.53      0.62      1174\n",
      "\n",
      "    accuracy                           0.86      5413\n",
      "   macro avg       0.81      0.74      0.77      5413\n",
      "weighted avg       0.85      0.86      0.85      5413\n",
      "\n",
      "@@@@@@@@@@@@@@@@@@@@@@@@@@@@@@@@@@@@@@@@@@@@@@@@@@@@@@@@@@\n",
      "\n",
      "\n",
      "Accuracy score of BaggingClassifier() is:\n",
      "0.8337336042859782\n",
      "[[3930  309]\n",
      " [ 591  583]]\n",
      "              precision    recall  f1-score   support\n",
      "\n",
      "         0.0       0.87      0.93      0.90      4239\n",
      "         1.0       0.65      0.50      0.56      1174\n",
      "\n",
      "    accuracy                           0.83      5413\n",
      "   macro avg       0.76      0.71      0.73      5413\n",
      "weighted avg       0.82      0.83      0.83      5413\n",
      "\n",
      "@@@@@@@@@@@@@@@@@@@@@@@@@@@@@@@@@@@@@@@@@@@@@@@@@@@@@@@@@@\n",
      "\n",
      "\n",
      "Accuracy score of ExtraTreesClassifier() is:\n",
      "0.8372436726399409\n",
      "[[3897  342]\n",
      " [ 539  635]]\n",
      "              precision    recall  f1-score   support\n",
      "\n",
      "         0.0       0.88      0.92      0.90      4239\n",
      "         1.0       0.65      0.54      0.59      1174\n",
      "\n",
      "    accuracy                           0.84      5413\n",
      "   macro avg       0.76      0.73      0.74      5413\n",
      "weighted avg       0.83      0.84      0.83      5413\n",
      "\n",
      "@@@@@@@@@@@@@@@@@@@@@@@@@@@@@@@@@@@@@@@@@@@@@@@@@@@@@@@@@@\n",
      "\n",
      "\n"
     ]
    }
   ],
   "source": [
    "# All Algorithm by using for loop\n",
    "model=[RandomForestClassifier(),AdaBoostClassifier(),GradientBoostingClassifier(),BaggingClassifier(),ExtraTreesClassifier()]\n",
    "\n",
    "\n",
    "for m in model:\n",
    "    m.fit(x_train,y_train)\n",
    "    m.score(x_train,y_train)\n",
    "    predm=m.predict(x_test)\n",
    "    print('Accuracy score of',m ,'is:')\n",
    "    print(accuracy_score(y_test,predm))\n",
    "    print(confusion_matrix(y_test,predm))\n",
    "    print(classification_report(y_test,predm))\n",
    "    print('@@@@@@@@@@@@@@@@@@@@@@@@@@@@@@@@@@@@@@@@@@@@@@@@@@@@@@@@@@')\n",
    "    print('\\n')\n",
    "    \n",
    "    "
   ]
  },
  {
   "cell_type": "code",
   "execution_count": 84,
   "id": "3430e8f5",
   "metadata": {},
   "outputs": [
    {
     "name": "stdout",
     "output_type": "stream",
     "text": [
      "Model: RandomForestClassifier()\n",
      "Score: [0.83524197 0.84817141 0.84891023 0.8393055  0.84263022 0.83887657\n",
      " 0.84922395 0.8481153  0.85218034 0.84478936]\n",
      "Mean Score: 0.8447444841342324\n",
      "Standard deviation: 0.0052402491277279886\n",
      "*************************************************************************\n",
      "\n",
      "\n",
      "Model: AdaBoostClassifier()\n",
      "Score: [0.84817141 0.84706317 0.86073144 0.84558552 0.8537126  0.85181079\n",
      " 0.85698448 0.86031042 0.85772358 0.85291944]\n",
      "Mean Score: 0.8535012836611221\n",
      "Standard deviation: 0.005141566606285373\n",
      "*************************************************************************\n",
      "\n",
      "\n",
      "Model: GradientBoostingClassifier()\n",
      "Score: [0.85223495 0.8566679  0.8655338  0.85408201 0.8566679  0.85735403\n",
      " 0.85735403 0.86289727 0.85883222 0.85181079]\n",
      "Mean Score: 0.8573434890408951\n",
      "Standard deviation: 0.004103659985691695\n",
      "*************************************************************************\n",
      "\n",
      "\n",
      "Model: BaggingClassifier()\n",
      "Score: [0.82674547 0.83413373 0.83265608 0.83450314 0.83376431 0.82852919\n",
      " 0.83555063 0.83998522 0.83813747 0.82889874]\n",
      "Mean Score: 0.83329039901206\n",
      "Standard deviation: 0.004012779623132287\n",
      "*************************************************************************\n",
      "\n",
      "\n",
      "Model: ExtraTreesClassifier()\n",
      "Score: [0.82933136 0.8363502  0.84152198 0.83524197 0.83819727 0.83111604\n",
      " 0.84441981 0.83813747 0.84552846 0.84146341]\n",
      "Mean Score: 0.8381307966453073\n",
      "Standard deviation: 0.005050155127566195\n",
      "*************************************************************************\n",
      "\n",
      "\n"
     ]
    }
   ],
   "source": [
    "#Cross validate the Boosting models\n",
    "models=[RandomForestClassifier(),AdaBoostClassifier(),GradientBoostingClassifier(),BaggingClassifier(),ExtraTreesClassifier()]\n",
    "for m in models:\n",
    "    score=cross_val_score(m,x,y,cv=10,scoring='accuracy')\n",
    "    print('Model:',m)\n",
    "    print('Score:',score)\n",
    "    print('Mean Score:',score.mean())\n",
    "    print('Standard deviation:',score.std())\n",
    "    print('*************************************************************************')\n",
    "    print('\\n')"
   ]
  },
  {
   "cell_type": "markdown",
   "id": "1f90cc24",
   "metadata": {},
   "source": [
    "Gradient Boosting Classifier Gives best score and it is not suffering from underfitting and overfitting.\n",
    "\n",
    "So we choose Gradient Boosting Classifier as out best Model."
   ]
  },
  {
   "cell_type": "code",
   "execution_count": 85,
   "id": "ad0824d3",
   "metadata": {},
   "outputs": [
    {
     "name": "stdout",
     "output_type": "stream",
     "text": [
      "0.8636615555145021\n",
      "[[4012  227]\n",
      " [ 511  663]]\n",
      "              precision    recall  f1-score   support\n",
      "\n",
      "         0.0       0.89      0.95      0.92      4239\n",
      "         1.0       0.74      0.56      0.64      1174\n",
      "\n",
      "    accuracy                           0.86      5413\n",
      "   macro avg       0.82      0.76      0.78      5413\n",
      "weighted avg       0.86      0.86      0.86      5413\n",
      "\n"
     ]
    }
   ],
   "source": [
    "#GradientBoostclassifier with best result\n",
    "gbc=GradientBoostingClassifier(learning_rate=0.1,random_state=59,n_estimators=200)\n",
    "gbc.fit(x_train,y_train)\n",
    "gbc.score(x_train,y_train)\n",
    "predgbc=gbc.predict(x_test)\n",
    "print(accuracy_score(y_test,predgbc))\n",
    "print(confusion_matrix(y_test,predgbc))\n",
    "print(classification_report(y_test,predgbc))"
   ]
  },
  {
   "cell_type": "code",
   "execution_count": 86,
   "id": "91061720",
   "metadata": {},
   "outputs": [
    {
     "data": {
      "image/png": "[encoded data removed]",
      "text/plain": [
       "<Figure size 432x288 with 1 Axes>"
      ]
     },
     "metadata": {
      "needs_background": "light"
     },
     "output_type": "display_data"
    }
   ],
   "source": [
    "#Plotting confusion matrix for Gradient Boosting classifier\n",
    "cm=confusion_matrix(y_test,predgbc)\n",
    "sns.heatmap(cm,annot=True,cbar=False,cmap='Blues')\n",
    "\n",
    "plt.title('Confusion Matrix of Gradient Boosting Classifier')\n",
    "plt.show()"
   ]
  },
  {
   "cell_type": "markdown",
   "id": "aa561cda",
   "metadata": {},
   "source": [
    "# AUC_ROC CURVE and Finding auc score"
   ]
  },
  {
   "cell_type": "code",
   "execution_count": 89,
   "id": "8917e728",
   "metadata": {},
   "outputs": [
    {
     "data": {
      "image/png": "[encoded data removed]",
      "text/plain": [
       "<Figure size 432x288 with 1 Axes>"
      ]
     },
     "metadata": {
      "needs_background": "light"
     },
     "output_type": "display_data"
    },
    {
     "name": "stdout",
     "output_type": "stream",
     "text": [
      "0.7555927899166216\n"
     ]
    }
   ],
   "source": [
    "from sklearn.metrics import roc_curve\n",
    "from sklearn.metrics import roc_auc_score\n",
    "y_pred_prob=gbc.predict_proba(x_test)[:,1]\n",
    "fpr,tpr,thredholds=roc_curve(y_test,y_pred_prob)\n",
    "plt.plot([0,1],[0,1],'k--')\n",
    "plt.plot(fpr,tpr,label='Gradient Boosting Classifier')\n",
    "plt.xlabel('False Positive Rate')\n",
    "plt.ylabel('True Positive Rate')\n",
    "plt.title('Gradient Boosting Classifier')\n",
    "plt.show()\n",
    "\n",
    "auc_score=roc_auc_score(y_test,predgbc)\n",
    "print(auc_score)"
   ]
  },
  {
   "cell_type": "code",
   "execution_count": 90,
   "id": "13fed5af",
   "metadata": {},
   "outputs": [
    {
     "data": {
      "text/plain": [
       "['Adult_income_gbc.pkl']"
      ]
     },
     "execution_count": 90,
     "metadata": {},
     "output_type": "execute_result"
    }
   ],
   "source": [
    "#Saving this model\n",
    "import joblib\n",
    "#save the model as a pickle in a file\n",
    "joblib.dump(gbc,'Adult_income_gbc.pkl')"
   ]
  },
  {
   "cell_type": "code",
   "execution_count": null,
   "id": "1b4c6d66",
   "metadata": {},
   "outputs": [],
   "source": []
  }
 ],
 "metadata": {
  "kernelspec": {
   "display_name": "Python 3",
   "language": "python",
   "name": "python3"
  },
  "language_info": {
   "codemirror_mode": {
    "name": "ipython",
    "version": 3
   },
   "file_extension": ".py",
   "mimetype": "text/x-python",
   "name": "python",
   "nbconvert_exporter": "python",
   "pygments_lexer": "ipython3",
   "version": "3.8.8"
  }
 },
 "nbformat": 4,
 "nbformat_minor": 5
}
